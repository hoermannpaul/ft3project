{
 "cells": [
  {
   "cell_type": "markdown",
   "metadata": {},
   "source": [
    "# Log Parser for Email Workflow "
   ]
  },
  {
   "cell_type": "markdown",
   "metadata": {},
   "source": [
    "Define a parser to extract information out of logs. \n",
    "The final log needs to be in XES format as defined like:\n",
    "* case id\n",
    "* timestamp\n",
    "* activity"
   ]
  },
  {
   "cell_type": "code",
   "execution_count": 1,
   "metadata": {},
   "outputs": [],
   "source": [
    "import os\n",
    "import csv"
   ]
  },
  {
   "cell_type": "code",
   "execution_count": 30,
   "metadata": {},
   "outputs": [],
   "source": [
    "class LogParser:\n",
    "    def __init__(self, file_name):\n",
    "        self._file_name = file_name\n",
    "        self._parsing_comp = list()\n",
    "\n",
    "    def parse(self) -> None:\n",
    "        if os.path.isfile(self._file_name): \n",
    "            for line in open(self._file_name, \"r\"):\n",
    "                part = line.rstrip().split('::')\n",
    "                self._parsing_comp.append(part)\n",
    "\n",
    "    def print(self, show_slice_list = True) -> None:\n",
    "        if(show_slice_list):\n",
    "            print(self._parsing_comp[0:5])\n",
    "        else:\n",
    "            print(self._parsing_comp)\n",
    "\n",
    "    def write_to_csv(self, out_file_name) -> None:\n",
    "        if os.path.isfile(self._file_name): \n",
    "            with open(out_file_name, 'w') as outcsv:\n",
    "                # configure writer to write standard csv file\n",
    "                writer = csv.writer(outcsv, delimiter=',', quoting=csv.QUOTE_MINIMAL, lineterminator='\\n')\n",
    "                writer.writerow(['case', 'timestamp', 'activity'])\n",
    "                for item in self._parsing_comp:\n",
    "                    # write item to outcsv\n",
    "                    writer.writerow([item[1].split(' ')[1], item[2], item[5]])\n",
    "            print('Successfully wrote log info to csv!')"
   ]
  },
  {
   "cell_type": "code",
   "execution_count": 31,
   "metadata": {},
   "outputs": [],
   "source": [
    "parser = LogParser('./log/long_correlator_case.log')"
   ]
  },
  {
   "cell_type": "code",
   "execution_count": 32,
   "metadata": {},
   "outputs": [
    {
     "name": "stdout",
     "output_type": "stream",
     "text": [
      "[['CASE', 'id 0', '2021-01-12 17:18:05.517598', 'count 1', 'DEBUG', 'executed pre function of component auth_proxy'], ['CASE', 'id 0', '2021-01-12 17:18:05.617598', 'count 2', 'DEBUG', 'executed pre function of component guardia_api'], ['CASE', 'id 0', '2021-01-12 17:18:05.717598', 'count 3', 'DEBUG', 'executed pre function of component email_service'], ['CASE', 'id 0', '2021-01-12 17:18:05.817598', 'count 4', 'DEBUG', 'executed pre function of component indicator_parser'], ['CASE', 'id 0', '2021-01-12 17:18:05.917598', 'count 5', 'DEBUG', 'executed pre function of component worker']]\n"
     ]
    }
   ],
   "source": [
    "parser.parse()\n",
    "parser.print(show_slice_list=True)"
   ]
  },
  {
   "cell_type": "code",
   "execution_count": 33,
   "metadata": {},
   "outputs": [
    {
     "name": "stdout",
     "output_type": "stream",
     "text": [
      "Successfully wrote log info to csv!\n"
     ]
    }
   ],
   "source": [
    "parser.write_to_csv('./out/long_correlator_case.csv')"
   ]
  },
  {
   "cell_type": "code",
   "execution_count": 5,
   "metadata": {},
   "outputs": [],
   "source": []
  }
 ],
 "metadata": {
  "kernelspec": {
   "display_name": "Python 3",
   "language": "python",
   "name": "python3"
  },
  "language_info": {
   "codemirror_mode": {
    "name": "ipython",
    "version": 3
   },
   "file_extension": ".py",
   "mimetype": "text/x-python",
   "name": "python",
   "nbconvert_exporter": "python",
   "pygments_lexer": "ipython3",
   "version": "3.8.5"
  }
 },
 "nbformat": 4,
 "nbformat_minor": 2
}
