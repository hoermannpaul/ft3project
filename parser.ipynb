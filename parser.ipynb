{
 "metadata": {
  "language_info": {
   "codemirror_mode": {
    "name": "ipython",
    "version": 3
   },
   "file_extension": ".py",
   "mimetype": "text/x-python",
   "name": "python",
   "nbconvert_exporter": "python",
   "pygments_lexer": "ipython3",
   "version": "3.8.5-final"
  },
  "orig_nbformat": 2,
  "kernelspec": {
   "name": "python3",
   "display_name": "Python 3",
   "language": "python"
  }
 },
 "nbformat": 4,
 "nbformat_minor": 2,
 "cells": [
  {
   "source": [
    "# Log Parser for Email Workflow "
   ],
   "cell_type": "markdown",
   "metadata": {}
  },
  {
   "source": [
    "Define a parser to extract information out of logs. \n",
    "The final log needs to be in XES format as defined like:\n",
    "* case id\n",
    "* timestamp\n",
    "* activity\n",
    "* resource"
   ],
   "cell_type": "markdown",
   "metadata": {}
  },
  {
   "cell_type": "code",
   "execution_count": 1,
   "metadata": {},
   "outputs": [],
   "source": [
    "import os\n",
    "import sys\n",
    "import csv"
   ]
  },
  {
   "cell_type": "code",
   "execution_count": 2,
   "metadata": {},
   "outputs": [],
   "source": [
    "class LogParser:\n",
    "    def __init__(self, file_name):\n",
    "        self._file_name = file_name\n",
    "        self._parsing_comp = list()\n",
    "\n",
    "    def parse(self):\n",
    "        if os.path.isfile(self._file_name): \n",
    "            for line in open(self._file_name, \"r\"):\n",
    "                part = line.rstrip().split('::')\n",
    "                self._parsing_comp.append(part)\n",
    "\n",
    "    def print(self):\n",
    "        print(self._parsing_comp)\n",
    "\n",
    "    def write_to_csv(self, out_file_name):\n",
    "        if os.path.isfile(self._file_name): \n",
    "            with open(out_file_name, 'a') as outcsv:   \n",
    "                # configure writer to write standard csv file\n",
    "                writer = csv.writer(outcsv, delimiter=',', quoting=csv.QUOTE_MINIMAL, lineterminator='\\n')\n",
    "                writer.writerow(['Case_id', 'Timestamp', 'Activity'])\n",
    "                for item in self._parsing_comp:\n",
    "                    # write item to outcsv\n",
    "                    writer.writerow([item[1].split(' ')[1], item[2], item[5]])\n",
    "            print('Sucessfully wrote log info to csv!')"
   ]
  },
  {
   "cell_type": "code",
   "execution_count": 3,
   "metadata": {},
   "outputs": [],
   "source": [
    "parser = LogParser('./log/nice_weather_case.log')"
   ]
  },
  {
   "cell_type": "code",
   "execution_count": 4,
   "metadata": {},
   "outputs": [
    {
     "output_type": "stream",
     "name": "stdout",
     "text": [
      "[['CASE', 'id 1', '2021-01-04 21:36:50.238262', 'count 2', 'DEBUG', 'executed pre function of component auth_proxy'], ['CASE', 'id 1', '2021-01-04 21:36:50.338262', 'count 3', 'DEBUG', 'executed pre function of component guardia_api'], ['CASE', 'id 1', '2021-01-04 21:36:50.438262', 'count 4', 'DEBUG', 'executed pre function of component email_service'], ['CASE', 'id 1', '2021-01-04 21:36:50.538262', 'count 5', 'DEBUG', 'executed pre function of component indicator_parser'], ['CASE', 'id 1', '2021-01-04 21:36:50.638262', 'count 6', 'DEBUG', 'executed pre function of component worker'], ['CASE', 'id 1', '2021-01-04 21:36:50.738262', 'count 7', 'DEBUG', 'executed pre function of component workflow_engine'], ['CASE', 'id 1', '2021-01-04 21:36:50.838262', 'count 8', 'DEBUG', 'executed pre function of component analytics'], ['CASE', 'id 1', '2021-01-04 21:36:50.938262', 'count 9', 'DEBUG', 'executed pre function of component correlator'], ['CASE', 'id 1', '2021-01-04 21:36:51.038262', 'count 10', 'DEBUG', 'executed pre function of component notification_service'], ['CASE', 'id 1', '2021-01-04 21:36:51.138262', 'count 11', 'DEBUG', 'executed post function of component notification_service'], ['CASE', 'id 1', '2021-01-04 21:36:52.738262', 'count 12', 'DEBUG', 'executed post function of component correlator'], ['CASE', 'id 1', '2021-01-04 21:36:52.838262', 'count 13', 'DEBUG', 'executed post function of component analytics'], ['CASE', 'id 1', '2021-01-04 21:36:52.938262', 'count 14', 'DEBUG', 'executed post function of component workflow_engine'], ['CASE', 'id 1', '2021-01-04 21:36:53.038262', 'count 15', 'DEBUG', 'executed post function of component worker'], ['CASE', 'id 1', '2021-01-04 21:36:53.138262', 'count 16', 'DEBUG', 'executed post function of component indicator_parser'], ['CASE', 'id 1', '2021-01-04 21:36:53.238262', 'count 17', 'DEBUG', 'executed post function of component email_service'], ['CASE', 'id 1', '2021-01-04 21:36:53.338262', 'count 18', 'DEBUG', 'executed post function of component guardia_api'], ['CASE', 'id 1', '2021-01-04 21:36:53.438262', 'count 19', 'DEBUG', 'executed post function of component auth_proxy']]\n"
     ]
    }
   ],
   "source": [
    "parser.parse()\n",
    "parser.print()"
   ]
  },
  {
   "cell_type": "code",
   "execution_count": 5,
   "metadata": {},
   "outputs": [
    {
     "output_type": "stream",
     "name": "stdout",
     "text": [
      "Sucessfully wrote log info to csv!\n"
     ]
    }
   ],
   "source": [
    "parser.write_to_csv('nice_weather_case.csv')"
   ]
  },
  {
   "cell_type": "code",
   "execution_count": null,
   "metadata": {},
   "outputs": [],
   "source": []
  }
 ]
}