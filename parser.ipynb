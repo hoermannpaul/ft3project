{
 "cells": [
  {
   "cell_type": "markdown",
   "metadata": {},
   "source": [
    "# Log Parser for Email Workflow "
   ]
  },
  {
   "cell_type": "markdown",
   "metadata": {},
   "source": [
    "Define a parser to extract information out of logs. \n",
    "The final log needs to be in a valid, transformable XES structure as defined like:\n",
    "  * case id   --> 'case:concept:name'\n",
    "  * timestamp --> 'time:timestamp'\n",
    "  * activity  --> 'concept:name'\n",
    "  * resource  --> 'org:resource'"
   ]
  },
  {
   "cell_type": "code",
   "execution_count": 100,
   "metadata": {},
   "outputs": [],
   "source": [
    "import os\n",
    "import csv\n",
    "import pandas as pd\n",
    "from datetime import datetime"
   ]
  },
  {
   "cell_type": "code",
   "execution_count": 158,
   "metadata": {},
   "outputs": [],
   "source": [
    "# define parser for log files\n",
    "class LogParser:\n",
    "    def __init__(self, file_name):\n",
    "        self._file_name = file_name\n",
    "        self._parsing_comp = list()\n",
    "\n",
    "    def parse(self) -> None:\n",
    "        if os.path.isfile(self._file_name): \n",
    "            for line in open(self._file_name, \"r\"):\n",
    "                part = line.rstrip().split('::')\n",
    "                self._parsing_comp.append(part)\n",
    "\n",
    "    def print(self, show_slice_list = True) -> None:\n",
    "        if(show_slice_list):\n",
    "            print(self._parsing_comp[0:5])\n",
    "        else:\n",
    "            print(self._parsing_comp)\n",
    "\n",
    "    def write_to_csv(self, out_file_name) -> None:\n",
    "        if os.path.isfile(self._file_name): \n",
    "            with open(out_file_name, 'w') as outcsv:\n",
    "                # configure writer to write standard csv file\n",
    "                writer = csv.writer(outcsv, delimiter=',', quoting=csv.QUOTE_MINIMAL, lineterminator='\\n')\n",
    "                # sort timestamps\n",
    "                sorted(self._parsing_comp)\n",
    "                # Case ID, Timestamp, Activity\n",
    "                writer.writerow(['case:concept:name', 'time:timestamp', 'concept:name', 'org:resource'])\n",
    "                for item in self._parsing_comp:\n",
    "                    # write item to outcsv\n",
    "                    writer.writerow([item[1].split(' ')[1], item[2], item[5], item[5].split(' ')[5]])\n",
    "            print('Successfully wrote log info to csv!')\n",
    "\n",
    "    def clean(self) -> None:\n",
    "        self._parsing_comp = None\n",
    "        self._file_name = None"
   ]
  },
  {
   "cell_type": "markdown",
   "metadata": {},
   "source": [
    "## 1. Long Correlator Case"
   ]
  },
  {
   "cell_type": "code",
   "execution_count": 159,
   "metadata": {},
   "outputs": [],
   "source": [
    "parser = LogParser('./log/long_correlator_case.log')"
   ]
  },
  {
   "cell_type": "code",
   "execution_count": 160,
   "metadata": {},
   "outputs": [
    {
     "name": "stdout",
     "output_type": "stream",
     "text": [
      "[['CASE', 'id 0', '2021-01-12 17:18:05.517598', 'count 1', 'DEBUG', 'executed pre function of component auth_proxy'], ['CASE', 'id 0', '2021-01-12 17:18:05.617598', 'count 2', 'DEBUG', 'executed pre function of component guardia_api'], ['CASE', 'id 0', '2021-01-12 17:18:05.717598', 'count 3', 'DEBUG', 'executed pre function of component email_service'], ['CASE', 'id 0', '2021-01-12 17:18:05.817598', 'count 4', 'DEBUG', 'executed pre function of component indicator_parser'], ['CASE', 'id 0', '2021-01-12 17:18:05.917598', 'count 5', 'DEBUG', 'executed pre function of component worker']]\n"
     ]
    }
   ],
   "source": [
    "parser.parse()\n",
    "parser.print(show_slice_list=True)"
   ]
  },
  {
   "cell_type": "code",
   "execution_count": 161,
   "metadata": {},
   "outputs": [
    {
     "name": "stdout",
     "output_type": "stream",
     "text": [
      "Successfully wrote log info to csv!\n"
     ]
    }
   ],
   "source": [
    "parser.write_to_csv('./out/long_correlator_case.csv')"
   ]
  },
  {
   "cell_type": "code",
   "execution_count": 162,
   "metadata": {},
   "outputs": [],
   "source": [
    "parser.clean()"
   ]
  },
  {
   "cell_type": "markdown",
   "metadata": {},
   "source": [
    "## 2. Long Correlator-Worker Case"
   ]
  },
  {
   "cell_type": "code",
   "execution_count": 118,
   "metadata": {},
   "outputs": [],
   "source": [
    "parser2 = LogParser('./log/long_correlator_worker_case.log')"
   ]
  },
  {
   "cell_type": "code",
   "execution_count": 119,
   "metadata": {},
   "outputs": [
    {
     "name": "stdout",
     "output_type": "stream",
     "text": [
      "[['CASE', 'id 0', '2021-01-18 18:23:45.012778', 'count 1', 'DEBUG', 'executed pre function of component auth_proxy'], ['CASE', 'id 0', '2021-01-18 18:23:45.112778', 'count 2', 'DEBUG', 'executed pre function of component guardia_api'], ['CASE', 'id 0', '2021-01-18 18:23:45.212778', 'count 3', 'DEBUG', 'executed pre function of component email_service'], ['CASE', 'id 0', '2021-01-18 18:23:45.312778', 'count 4', 'DEBUG', 'executed pre function of component indicator_parser'], ['CASE', 'id 0', '2021-01-18 18:23:45.412778', 'count 5', 'DEBUG', 'executed post function of component worker']]\n"
     ]
    }
   ],
   "source": [
    "parser2.parse()\n",
    "parser2.print(show_slice_list=True)"
   ]
  },
  {
   "cell_type": "code",
   "execution_count": 120,
   "metadata": {},
   "outputs": [
    {
     "name": "stdout",
     "output_type": "stream",
     "text": [
      "Successfully wrote log info to csv!\n"
     ]
    }
   ],
   "source": [
    "parser2.write_to_csv('./out/long_correlator_worker_case.csv')"
   ]
  },
  {
   "cell_type": "code",
   "execution_count": 121,
   "metadata": {},
   "outputs": [],
   "source": [
    "parser2.clean()"
   ]
  },
  {
   "cell_type": "code",
   "execution_count": null,
   "metadata": {},
   "outputs": [],
   "source": []
  }
 ],
 "metadata": {
  "kernelspec": {
   "display_name": "Python 3",
   "language": "python",
   "name": "python3"
  },
  "language_info": {
   "codemirror_mode": {
    "name": "ipython",
    "version": 3
   },
   "file_extension": ".py",
   "mimetype": "text/x-python",
   "name": "python",
   "nbconvert_exporter": "python",
   "pygments_lexer": "ipython3",
   "version": "3.8.5"
  }
 },
 "nbformat": 4,
 "nbformat_minor": 2
}