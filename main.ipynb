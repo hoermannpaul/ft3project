{
 "cells": [
  {
   "cell_type": "markdown",
   "metadata": {},
   "source": [
    "# Logging Tracing Concept for Email Workflow"
   ]
  },
  {
   "cell_type": "markdown",
   "metadata": {},
   "source": [
    "As the production system is not ready yet, and even if it would be there is not enough time to gather enough test data\n",
    "to validate the concept necessary for demonstration.\n",
    "\n",
    "To properly validate the concept the demo has to check the requirements below:\n",
    "* simulate every component existing in future production system\n",
    "* simulate errors / full failures in specific components to validate concept\n",
    "* produce large amounts of realistic test data in a short amount of time"
   ]
  },
  {
   "cell_type": "code",
   "execution_count": 1,
   "metadata": {},
   "outputs": [],
   "source": [
    "import sys\n",
    "import random\n",
    "import datetime\n",
    "\n",
    "import logging\n",
    "from logging import config"
   ]
  },
  {
   "cell_type": "code",
   "execution_count": 2,
   "metadata": {},
   "outputs": [],
   "source": [
    "case_format = \"CASE::%(case)s::%(levelname)s::%(message)s\"\n",
    "debug_format = \"DEBUG::%(component)s::%(asctime)s::%(levelname)s::%(message)s\"\n",
    "debug_date_format = \"%Y-%m-%d %H:%M:%S\"\n",
    "\n",
    "def get_handlers(name, level):\n",
    "    if name == 'debug':\n",
    "        return {\n",
    "            'debug_console': {\n",
    "                'class': 'logging.StreamHandler',\n",
    "                'level': level,\n",
    "                'formatter': 'debug',\n",
    "                'stream': 'ext://sys.stdout'\n",
    "            },\n",
    "            'debug_file': {\n",
    "                'class': 'logging.FileHandler',\n",
    "                'level': level,\n",
    "                'formatter': 'debug',\n",
    "                'filename': './log/debug.log'\n",
    "            },\n",
    "        }\n",
    "    else:\n",
    "        return {\n",
    "            f'{name}_console': {\n",
    "                'class': 'logging.StreamHandler',\n",
    "                'level': level,\n",
    "                'formatter': 'case',\n",
    "                'stream': 'ext://sys.stdout'\n",
    "            },\n",
    "            f'{name}_file': {\n",
    "                'class': 'logging.FileHandler',\n",
    "                'level': level,\n",
    "                'formatter': 'case',\n",
    "                'filename': f'./log/{name}.log'\n",
    "            },\n",
    "        }\n",
    "\n",
    "def setup_logger(name):\n",
    "    level = logging.DEBUG\n",
    "    config.dictConfig({\n",
    "        'version': 1,\n",
    "        'disable_existing_loggers': False,\n",
    "        'formatters': {\n",
    "            'debug': {'format': debug_format, 'datefmt': debug_date_format},\n",
    "            'case': {'format': case_format}\n",
    "        },\n",
    "        'handlers': get_handlers(name, level),\n",
    "        'loggers': {\n",
    "            f'{name}': {\n",
    "                'level': level,\n",
    "                'handlers': [f'{name}_console', f'{name}_file']\n",
    "            },\n",
    "        }\n",
    "    })\n",
    "    return logging.getLogger(name)\n",
    "\n",
    "caseLogger = setup_logger(\"case\")\n",
    "debugLogger = setup_logger(\"debug\")"
   ]
  },
  {
   "cell_type": "code",
   "execution_count": 3,
   "metadata": {},
   "outputs": [],
   "source": [
    "class LoggerWrapper:\n",
    "    def __init__(self, logger, logger_props):\n",
    "        self._logger_props = logger_props\n",
    "        self._logger = logger\n",
    "\n",
    "    def __getattr__(self, attr):\n",
    "        local_props = self._logger_props\n",
    "        def wrapped(message):\n",
    "            return getattr(self._logger, attr)(message, extra=local_props)\n",
    "        return wrapped"
   ]
  },
  {
   "cell_type": "code",
   "execution_count": 4,
   "metadata": {},
   "outputs": [
    {
     "output_type": "stream",
     "name": "stdout",
     "text": [
      "DEBUG::Comp1::2021-01-12 16:13:35::INFO::test debug logger\n",
      "CASE::Case1::INFO::test case logger\n"
     ]
    }
   ],
   "source": [
    "debugLogger.info(\"test debug logger\", extra={'component':\"Comp1\"})\n",
    "caseLogger.info(\"test case logger\", extra={'case':\"Case1\"})"
   ]
  },
  {
   "cell_type": "code",
   "execution_count": 5,
   "metadata": {},
   "outputs": [],
   "source": [
    "class CaseCapsule:\n",
    "    def __init__(self, id: str, logger: logging.Logger=caseLogger):\n",
    "        # TODO\n",
    "        self._id = id\n",
    "        self._last_seen = datetime.datetime.today()\n",
    "        self._counter = 1\n",
    "        self._log = logger\n",
    "\n",
    "    @property\n",
    "    def id(self):\n",
    "        return self._id\n",
    "\n",
    "    @property\n",
    "    def last_seen(self):\n",
    "        return self._last_seen\n",
    "\n",
    "    @property\n",
    "    def counter(self):\n",
    "        return self._counter\n",
    "\n",
    "    def add_seconds(self, seconds):\n",
    "        self._counter += 1\n",
    "        timedelta = datetime.timedelta(seconds=seconds)\n",
    "        self._last_seen += timedelta\n",
    "\n",
    "    @property\n",
    "    def log(self):\n",
    "        return LoggerWrapper(self._log, {'case':str(self)})\n",
    "\n",
    "    def __str__(self):\n",
    "        return f\"id {self._id}::{self._last_seen}::count {self._counter}\""
   ]
  },
  {
   "cell_type": "code",
   "execution_count": 6,
   "metadata": {},
   "outputs": [
    {
     "output_type": "stream",
     "name": "stdout",
     "text": [
      "id 42::2021-01-12 16:13:35.396793::count 1\nid 42::2021-01-12 16:15:15.396793::count 2\n"
     ]
    }
   ],
   "source": [
    "case = CaseCapsule(\"42\")\n",
    "print(case)\n",
    "case.add_seconds(100)\n",
    "print(case)"
   ]
  },
  {
   "cell_type": "code",
   "execution_count": 7,
   "metadata": {},
   "outputs": [
    {
     "output_type": "stream",
     "name": "stdout",
     "text": [
      "CASE::hello_world::DEBUG::test log\n"
     ]
    }
   ],
   "source": [
    "newLogger = LoggerWrapper(caseLogger, {'case': 'hello_world'})\n",
    "\n",
    "newLogger.debug('test log')"
   ]
  },
  {
   "cell_type": "code",
   "execution_count": 8,
   "metadata": {},
   "outputs": [],
   "source": [
    "class Component:\n",
    "    def __init__(self, name, pre_sub_function, post_sub_function, debug_logger=debugLogger, sub_component=None):\n",
    "        self._name = name\n",
    "        self._pre_sub_function = pre_sub_function\n",
    "        self._post_sub_function = post_sub_function\n",
    "        self._sub_component = sub_component\n",
    "        self._debug_logger = LoggerWrapper(debug_logger, {'component':name})\n",
    "\n",
    "    def exec(self, case: CaseCapsule):\n",
    "        if self._pre_sub_function:\n",
    "            self._debug_logger.debug('before calling pre sub functions')\n",
    "            self._pre_sub_function(case, self._debug_logger, self._name)\n",
    "            self._debug_logger.debug('after calling pre sub functions')\n",
    "        \n",
    "        if self._sub_component:\n",
    "            self._debug_logger.debug('before calling sub component')\n",
    "            self._sub_component.exec(case)\n",
    "            self._debug_logger.debug('after calling sub component')\n",
    "        \n",
    "        if self._post_sub_function:\n",
    "            self._debug_logger.debug('before calling post sub functions')\n",
    "            self._post_sub_function(case, self._debug_logger, self._name)\n",
    "            self._debug_logger.debug('after calling post sub functions')"
   ]
  },
  {
   "cell_type": "code",
   "execution_count": 9,
   "metadata": {},
   "outputs": [
    {
     "output_type": "stream",
     "name": "stdout",
     "text": [
      "DEBUG::TestComp::2021-01-12 16:13:35::DEBUG::before calling pre sub functions\n",
      "DEBUG::TestComp::2021-01-12 16:13:35::DEBUG::some demo pre function\n",
      "CASE::id 1::2021-01-12 16:13:37.539861::count 2::DEBUG::executed pre of component TestComp\n",
      "DEBUG::TestComp::2021-01-12 16:13:35::DEBUG::after calling pre sub functions\n",
      "DEBUG::TestComp::2021-01-12 16:13:35::DEBUG::before calling post sub functions\n",
      "DEBUG::TestComp::2021-01-12 16:13:35::DEBUG::some demo post function\n",
      "CASE::id 1::2021-01-12 16:13:39.539861::count 3::DEBUG::executed post of component TestComp\n",
      "DEBUG::TestComp::2021-01-12 16:13:35::DEBUG::after calling post sub functions\n"
     ]
    }
   ],
   "source": [
    "def test_pre_fun(case:CaseCapsule, logger: logging.Logger, name):\n",
    "    logger.debug('some demo pre function')\n",
    "    case.add_seconds(2)\n",
    "    case.log.debug(f'executed pre of component {name}')\n",
    "\n",
    "def test_post_fun(case:CaseCapsule, logger: logging.Logger, name):\n",
    "    logger.debug('some demo post function')\n",
    "    case.add_seconds(2)\n",
    "    case.log.debug(f'executed post of component {name}')\n",
    "\n",
    "comp = Component(\"TestComp\", test_pre_fun, test_post_fun)\n",
    "\n",
    "case = CaseCapsule(\"1\")\n",
    "\n",
    "comp.exec(case)"
   ]
  },
  {
   "cell_type": "code",
   "execution_count": 10,
   "metadata": {},
   "outputs": [
    {
     "output_type": "stream",
     "name": "stdout",
     "text": [
      "id 1::2021-01-12 16:13:39.539861::count 3\nid 1::2021-01-12 16:13:39.639861::count 4\n"
     ]
    }
   ],
   "source": [
    "def simulate_timeout(ceil=10, likelihood=0.9):\n",
    "    # decide if timeout should be added\n",
    "    is_timeout = random.random()\n",
    "\n",
    "    if is_timeout > likelihood:\n",
    "        # add timeout between range of ceil\n",
    "        return random.randrange(ceil*10)/10\n",
    "    \n",
    "    return 0.1\n",
    "\n",
    "print(case)\n",
    "case.add_seconds(simulate_timeout(10, 0.6))\n",
    "print(case)"
   ]
  },
  {
   "cell_type": "markdown",
   "metadata": {},
   "source": [
    "# Define simulation scenarios\n",
    "\n"
   ]
  },
  {
   "cell_type": "markdown",
   "metadata": {},
   "source": [
    "## Nice weather case simulation\n",
    "Nice weather case scenario models the process optimal response time and throughput"
   ]
  },
  {
   "cell_type": "code",
   "execution_count": 11,
   "metadata": {},
   "outputs": [],
   "source": [
    "def nice_weather_pre_function(case:CaseCapsule, logger: logging.Logger, name):\n",
    "    logger.debug('executing pre function')\n",
    "    case.add_seconds(simulate_timeout(2, 0.9))\n",
    "    case.log.debug(f'executed pre function of component {name}')\n",
    "\n",
    "def nice_weather_post_function(case:CaseCapsule, logger: logging.Logger, name):\n",
    "    logger.debug('executing post function')\n",
    "    case.add_seconds(simulate_timeout(2, 0.9))\n",
    "    case.log.debug(f'executed post function of component {name}')\n",
    "\n",
    "notification_service = Component(\"notification_service\", nice_weather_pre_function, nice_weather_post_function, debugLogger)\n",
    "correlator = Component(\"correlator\", nice_weather_pre_function, nice_weather_post_function, debugLogger, notification_service)\n",
    "analytics = Component(\"analytics\", nice_weather_pre_function, nice_weather_post_function, debugLogger, correlator)\n",
    "workflow_engine = Component(\"workflow_engine\", nice_weather_pre_function, nice_weather_post_function, debugLogger, analytics)\n",
    "worker = Component(\"worker\", nice_weather_pre_function, nice_weather_post_function, debugLogger, workflow_engine)\n",
    "indicator_parser = Component(\"indicator_parser\", nice_weather_pre_function, nice_weather_post_function, debugLogger, worker)\n",
    "email_service = Component(\"email_service\", nice_weather_pre_function, nice_weather_post_function, debugLogger, indicator_parser)\n",
    "guardia_api = Component(\"guardia_api\", nice_weather_pre_function, nice_weather_post_function, debugLogger, email_service)\n",
    "auth_proxy = Component(\"auth_proxy\", nice_weather_pre_function, None, debugLogger, guardia_api)"
   ]
  },
  {
   "cell_type": "code",
   "execution_count": 12,
   "metadata": {},
   "outputs": [
    {
     "output_type": "stream",
     "name": "stdout",
     "text": [
      "DEBUG::auth_proxy::2021-01-12 16:13:35::DEBUG::before calling pre sub functions\n",
      "DEBUG::auth_proxy::2021-01-12 16:13:35::DEBUG::executing pre function\n",
      "CASE::id 1::2021-01-12 16:13:35.822144::count 2::DEBUG::executed pre function of component auth_proxy\n",
      "DEBUG::auth_proxy::2021-01-12 16:13:35::DEBUG::after calling pre sub functions\n",
      "DEBUG::auth_proxy::2021-01-12 16:13:35::DEBUG::before calling sub component\n",
      "DEBUG::guardia_api::2021-01-12 16:13:35::DEBUG::before calling pre sub functions\n",
      "DEBUG::guardia_api::2021-01-12 16:13:35::DEBUG::executing pre function\n",
      "CASE::id 1::2021-01-12 16:13:35.922144::count 3::DEBUG::executed pre function of component guardia_api\n",
      "DEBUG::guardia_api::2021-01-12 16:13:35::DEBUG::after calling pre sub functions\n",
      "DEBUG::guardia_api::2021-01-12 16:13:35::DEBUG::before calling sub component\n",
      "DEBUG::email_service::2021-01-12 16:13:35::DEBUG::before calling pre sub functions\n",
      "DEBUG::email_service::2021-01-12 16:13:35::DEBUG::executing pre function\n",
      "CASE::id 1::2021-01-12 16:13:36.022144::count 4::DEBUG::executed pre function of component email_service\n",
      "DEBUG::email_service::2021-01-12 16:13:35::DEBUG::after calling pre sub functions\n",
      "DEBUG::email_service::2021-01-12 16:13:35::DEBUG::before calling sub component\n",
      "DEBUG::indicator_parser::2021-01-12 16:13:35::DEBUG::before calling pre sub functions\n",
      "DEBUG::indicator_parser::2021-01-12 16:13:35::DEBUG::executing pre function\n",
      "CASE::id 1::2021-01-12 16:13:36.822144::count 5::DEBUG::executed pre function of component indicator_parser\n",
      "DEBUG::indicator_parser::2021-01-12 16:13:35::DEBUG::after calling pre sub functions\n",
      "DEBUG::indicator_parser::2021-01-12 16:13:35::DEBUG::before calling sub component\n",
      "DEBUG::worker::2021-01-12 16:13:35::DEBUG::before calling pre sub functions\n",
      "DEBUG::worker::2021-01-12 16:13:35::DEBUG::executing pre function\n",
      "CASE::id 1::2021-01-12 16:13:36.922144::count 6::DEBUG::executed pre function of component worker\n",
      "DEBUG::worker::2021-01-12 16:13:35::DEBUG::after calling pre sub functions\n",
      "DEBUG::worker::2021-01-12 16:13:35::DEBUG::before calling sub component\n",
      "DEBUG::workflow_engine::2021-01-12 16:13:35::DEBUG::before calling pre sub functions\n",
      "DEBUG::workflow_engine::2021-01-12 16:13:35::DEBUG::executing pre function\n",
      "CASE::id 1::2021-01-12 16:13:37.022144::count 7::DEBUG::executed pre function of component workflow_engine\n",
      "DEBUG::workflow_engine::2021-01-12 16:13:35::DEBUG::after calling pre sub functions\n",
      "DEBUG::workflow_engine::2021-01-12 16:13:35::DEBUG::before calling sub component\n",
      "DEBUG::analytics::2021-01-12 16:13:35::DEBUG::before calling pre sub functions\n",
      "DEBUG::analytics::2021-01-12 16:13:35::DEBUG::executing pre function\n",
      "CASE::id 1::2021-01-12 16:13:37.122144::count 8::DEBUG::executed pre function of component analytics\n",
      "DEBUG::analytics::2021-01-12 16:13:35::DEBUG::after calling pre sub functions\n",
      "DEBUG::analytics::2021-01-12 16:13:35::DEBUG::before calling sub component\n",
      "DEBUG::correlator::2021-01-12 16:13:35::DEBUG::before calling pre sub functions\n",
      "DEBUG::correlator::2021-01-12 16:13:35::DEBUG::executing pre function\n",
      "CASE::id 1::2021-01-12 16:13:37.222144::count 9::DEBUG::executed pre function of component correlator\n",
      "DEBUG::correlator::2021-01-12 16:13:35::DEBUG::after calling pre sub functions\n",
      "DEBUG::correlator::2021-01-12 16:13:35::DEBUG::before calling sub component\n",
      "DEBUG::notification_service::2021-01-12 16:13:35::DEBUG::before calling pre sub functions\n",
      "DEBUG::notification_service::2021-01-12 16:13:35::DEBUG::executing pre function\n",
      "CASE::id 1::2021-01-12 16:13:37.322144::count 10::DEBUG::executed pre function of component notification_service\n",
      "DEBUG::notification_service::2021-01-12 16:13:35::DEBUG::after calling pre sub functions\n",
      "DEBUG::notification_service::2021-01-12 16:13:35::DEBUG::before calling post sub functions\n",
      "DEBUG::notification_service::2021-01-12 16:13:35::DEBUG::executing post function\n",
      "CASE::id 1::2021-01-12 16:13:38.322144::count 11::DEBUG::executed post function of component notification_service\n",
      "DEBUG::notification_service::2021-01-12 16:13:35::DEBUG::after calling post sub functions\n",
      "DEBUG::correlator::2021-01-12 16:13:35::DEBUG::after calling sub component\n",
      "DEBUG::correlator::2021-01-12 16:13:35::DEBUG::before calling post sub functions\n",
      "DEBUG::correlator::2021-01-12 16:13:35::DEBUG::executing post function\n",
      "CASE::id 1::2021-01-12 16:13:38.422144::count 12::DEBUG::executed post function of component correlator\n",
      "DEBUG::correlator::2021-01-12 16:13:35::DEBUG::after calling post sub functions\n",
      "DEBUG::analytics::2021-01-12 16:13:35::DEBUG::after calling sub component\n",
      "DEBUG::analytics::2021-01-12 16:13:35::DEBUG::before calling post sub functions\n",
      "DEBUG::analytics::2021-01-12 16:13:35::DEBUG::executing post function\n",
      "CASE::id 1::2021-01-12 16:13:38.522144::count 13::DEBUG::executed post function of component analytics\n",
      "DEBUG::analytics::2021-01-12 16:13:35::DEBUG::after calling post sub functions\n",
      "DEBUG::workflow_engine::2021-01-12 16:13:35::DEBUG::after calling sub component\n",
      "DEBUG::workflow_engine::2021-01-12 16:13:35::DEBUG::before calling post sub functions\n",
      "DEBUG::workflow_engine::2021-01-12 16:13:35::DEBUG::executing post function\n",
      "CASE::id 1::2021-01-12 16:13:38.622144::count 14::DEBUG::executed post function of component workflow_engine\n",
      "DEBUG::workflow_engine::2021-01-12 16:13:35::DEBUG::after calling post sub functions\n",
      "DEBUG::worker::2021-01-12 16:13:35::DEBUG::after calling sub component\n",
      "DEBUG::worker::2021-01-12 16:13:35::DEBUG::before calling post sub functions\n",
      "DEBUG::worker::2021-01-12 16:13:35::DEBUG::executing post function\n",
      "CASE::id 1::2021-01-12 16:13:38.722144::count 15::DEBUG::executed post function of component worker\n",
      "DEBUG::worker::2021-01-12 16:13:35::DEBUG::after calling post sub functions\n",
      "DEBUG::indicator_parser::2021-01-12 16:13:35::DEBUG::after calling sub component\n",
      "DEBUG::indicator_parser::2021-01-12 16:13:35::DEBUG::before calling post sub functions\n",
      "DEBUG::indicator_parser::2021-01-12 16:13:35::DEBUG::executing post function\n",
      "CASE::id 1::2021-01-12 16:13:38.822144::count 16::DEBUG::executed post function of component indicator_parser\n",
      "DEBUG::indicator_parser::2021-01-12 16:13:35::DEBUG::after calling post sub functions\n",
      "DEBUG::email_service::2021-01-12 16:13:35::DEBUG::after calling sub component\n",
      "DEBUG::email_service::2021-01-12 16:13:35::DEBUG::before calling post sub functions\n",
      "DEBUG::email_service::2021-01-12 16:13:35::DEBUG::executing post function\n",
      "CASE::id 1::2021-01-12 16:13:38.922144::count 17::DEBUG::executed post function of component email_service\n",
      "DEBUG::email_service::2021-01-12 16:13:35::DEBUG::after calling post sub functions\n",
      "DEBUG::guardia_api::2021-01-12 16:13:35::DEBUG::after calling sub component\n",
      "DEBUG::guardia_api::2021-01-12 16:13:35::DEBUG::before calling post sub functions\n",
      "DEBUG::guardia_api::2021-01-12 16:13:35::DEBUG::executing post function\n",
      "CASE::id 1::2021-01-12 16:13:39.022144::count 18::DEBUG::executed post function of component guardia_api\n",
      "DEBUG::guardia_api::2021-01-12 16:13:35::DEBUG::after calling post sub functions\n",
      "DEBUG::auth_proxy::2021-01-12 16:13:35::DEBUG::after calling sub component\n"
     ]
    }
   ],
   "source": [
    "caseLogger = setup_logger(\"nice_weather_case\")\n",
    "case = CaseCapsule(\"1\", caseLogger)\n",
    "\n",
    "auth_proxy.exec(case)"
   ]
  },
  {
   "cell_type": "markdown",
   "metadata": {},
   "source": [
    "## Simulating inconsistent and slow correlator"
   ]
  },
  {
   "cell_type": "code",
   "execution_count": 13,
   "metadata": {},
   "outputs": [],
   "source": [
    "def long_pre_function(case:CaseCapsule, logger: logging.Logger, name):\n",
    "    logger.debug('executing pre function')\n",
    "    case.add_seconds(simulate_timeout(10, 0.4))\n",
    "    case.log.debug(f'executed pre function of component {name}')\n",
    "\n",
    "def long_post_function(case:CaseCapsule, logger: logging.Logger, name):\n",
    "    logger.debug('executing post function')\n",
    "    case.add_seconds(simulate_timeout(5, 0.3))\n",
    "    case.log.debug(f'executed post function of component {name}')\n",
    "\n",
    "notification_service = Component(\"notification_service\", nice_weather_pre_function, nice_weather_post_function, debugLogger)\n",
    "correlator = Component(\"correlator\", long_pre_function, long_post_function, debugLogger, notification_service)\n",
    "analytics = Component(\"analytics\", nice_weather_pre_function, nice_weather_post_function, debugLogger, correlator)\n",
    "workflow_engine = Component(\"workflow_engine\", nice_weather_pre_function, nice_weather_post_function, debugLogger, analytics)\n",
    "worker = Component(\"worker\", nice_weather_pre_function, nice_weather_post_function, debugLogger, workflow_engine)\n",
    "indicator_parser = Component(\"indicator_parser\", nice_weather_pre_function, nice_weather_post_function, debugLogger, worker)\n",
    "email_service = Component(\"email_service\", nice_weather_pre_function, nice_weather_post_function, debugLogger, indicator_parser)\n",
    "guardia_api = Component(\"guardia_api\", nice_weather_pre_function, nice_weather_post_function, debugLogger, email_service)\n",
    "auth_proxy = Component(\"auth_proxy\", nice_weather_pre_function, None, debugLogger, guardia_api)"
   ]
  },
  {
   "cell_type": "code",
   "execution_count": 14,
   "metadata": {},
   "outputs": [
    {
     "output_type": "stream",
     "name": "stdout",
     "text": [
      "DEBUG::auth_proxy::2021-01-12 16:13:36::DEBUG::before calling pre sub functions\n",
      "DEBUG::auth_proxy::2021-01-12 16:13:36::DEBUG::executing pre function\n",
      "CASE::id 1::2021-01-12 16:13:36.174125::count 2::DEBUG::executed pre function of component auth_proxy\n",
      "DEBUG::auth_proxy::2021-01-12 16:13:36::DEBUG::after calling pre sub functions\n",
      "DEBUG::auth_proxy::2021-01-12 16:13:36::DEBUG::before calling sub component\n",
      "DEBUG::guardia_api::2021-01-12 16:13:36::DEBUG::before calling pre sub functions\n",
      "DEBUG::guardia_api::2021-01-12 16:13:36::DEBUG::executing pre function\n",
      "CASE::id 1::2021-01-12 16:13:36.274125::count 3::DEBUG::executed pre function of component guardia_api\n",
      "DEBUG::guardia_api::2021-01-12 16:13:36::DEBUG::after calling pre sub functions\n",
      "DEBUG::guardia_api::2021-01-12 16:13:36::DEBUG::before calling sub component\n",
      "DEBUG::email_service::2021-01-12 16:13:36::DEBUG::before calling pre sub functions\n",
      "DEBUG::email_service::2021-01-12 16:13:36::DEBUG::executing pre function\n",
      "CASE::id 1::2021-01-12 16:13:36.374125::count 4::DEBUG::executed pre function of component email_service\n",
      "DEBUG::email_service::2021-01-12 16:13:36::DEBUG::after calling pre sub functions\n",
      "DEBUG::email_service::2021-01-12 16:13:36::DEBUG::before calling sub component\n",
      "DEBUG::indicator_parser::2021-01-12 16:13:36::DEBUG::before calling pre sub functions\n",
      "DEBUG::indicator_parser::2021-01-12 16:13:36::DEBUG::executing pre function\n",
      "CASE::id 1::2021-01-12 16:13:36.474125::count 5::DEBUG::executed pre function of component indicator_parser\n",
      "DEBUG::indicator_parser::2021-01-12 16:13:36::DEBUG::after calling pre sub functions\n",
      "DEBUG::indicator_parser::2021-01-12 16:13:36::DEBUG::before calling sub component\n",
      "DEBUG::worker::2021-01-12 16:13:36::DEBUG::before calling pre sub functions\n",
      "DEBUG::worker::2021-01-12 16:13:36::DEBUG::executing pre function\n",
      "CASE::id 1::2021-01-12 16:13:36.574125::count 6::DEBUG::executed pre function of component worker\n",
      "DEBUG::worker::2021-01-12 16:13:36::DEBUG::after calling pre sub functions\n",
      "DEBUG::worker::2021-01-12 16:13:36::DEBUG::before calling sub component\n",
      "DEBUG::workflow_engine::2021-01-12 16:13:36::DEBUG::before calling pre sub functions\n",
      "DEBUG::workflow_engine::2021-01-12 16:13:36::DEBUG::executing pre function\n",
      "CASE::id 1::2021-01-12 16:13:36.674125::count 7::DEBUG::executed pre function of component workflow_engine\n",
      "DEBUG::workflow_engine::2021-01-12 16:13:36::DEBUG::after calling pre sub functions\n",
      "DEBUG::workflow_engine::2021-01-12 16:13:36::DEBUG::before calling sub component\n",
      "DEBUG::analytics::2021-01-12 16:13:36::DEBUG::before calling pre sub functions\n",
      "DEBUG::analytics::2021-01-12 16:13:36::DEBUG::executing pre function\n",
      "CASE::id 1::2021-01-12 16:13:36.774125::count 8::DEBUG::executed pre function of component analytics\n",
      "DEBUG::analytics::2021-01-12 16:13:36::DEBUG::after calling pre sub functions\n",
      "DEBUG::analytics::2021-01-12 16:13:36::DEBUG::before calling sub component\n",
      "DEBUG::correlator::2021-01-12 16:13:36::DEBUG::before calling pre sub functions\n",
      "DEBUG::correlator::2021-01-12 16:13:36::DEBUG::executing pre function\n",
      "CASE::id 1::2021-01-12 16:13:46.174125::count 9::DEBUG::executed pre function of component correlator\n",
      "DEBUG::correlator::2021-01-12 16:13:36::DEBUG::after calling pre sub functions\n",
      "DEBUG::correlator::2021-01-12 16:13:36::DEBUG::before calling sub component\n",
      "DEBUG::notification_service::2021-01-12 16:13:36::DEBUG::before calling pre sub functions\n",
      "DEBUG::notification_service::2021-01-12 16:13:36::DEBUG::executing pre function\n",
      "CASE::id 1::2021-01-12 16:13:46.274125::count 10::DEBUG::executed pre function of component notification_service\n",
      "DEBUG::notification_service::2021-01-12 16:13:36::DEBUG::after calling pre sub functions\n",
      "DEBUG::notification_service::2021-01-12 16:13:36::DEBUG::before calling post sub functions\n",
      "DEBUG::notification_service::2021-01-12 16:13:36::DEBUG::executing post function\n",
      "CASE::id 1::2021-01-12 16:13:46.374125::count 11::DEBUG::executed post function of component notification_service\n",
      "DEBUG::notification_service::2021-01-12 16:13:36::DEBUG::after calling post sub functions\n",
      "DEBUG::correlator::2021-01-12 16:13:36::DEBUG::after calling sub component\n",
      "DEBUG::correlator::2021-01-12 16:13:36::DEBUG::before calling post sub functions\n",
      "DEBUG::correlator::2021-01-12 16:13:36::DEBUG::executing post function\n",
      "CASE::id 1::2021-01-12 16:13:48.574125::count 12::DEBUG::executed post function of component correlator\n",
      "DEBUG::correlator::2021-01-12 16:13:36::DEBUG::after calling post sub functions\n",
      "DEBUG::analytics::2021-01-12 16:13:36::DEBUG::after calling sub component\n",
      "DEBUG::analytics::2021-01-12 16:13:36::DEBUG::before calling post sub functions\n",
      "DEBUG::analytics::2021-01-12 16:13:36::DEBUG::executing post function\n",
      "CASE::id 1::2021-01-12 16:13:48.674125::count 13::DEBUG::executed post function of component analytics\n",
      "DEBUG::analytics::2021-01-12 16:13:36::DEBUG::after calling post sub functions\n",
      "DEBUG::workflow_engine::2021-01-12 16:13:36::DEBUG::after calling sub component\n",
      "DEBUG::workflow_engine::2021-01-12 16:13:36::DEBUG::before calling post sub functions\n",
      "DEBUG::workflow_engine::2021-01-12 16:13:36::DEBUG::executing post function\n",
      "CASE::id 1::2021-01-12 16:13:48.774125::count 14::DEBUG::executed post function of component workflow_engine\n",
      "DEBUG::workflow_engine::2021-01-12 16:13:36::DEBUG::after calling post sub functions\n",
      "DEBUG::worker::2021-01-12 16:13:36::DEBUG::after calling sub component\n",
      "DEBUG::worker::2021-01-12 16:13:36::DEBUG::before calling post sub functions\n",
      "DEBUG::worker::2021-01-12 16:13:36::DEBUG::executing post function\n",
      "CASE::id 1::2021-01-12 16:13:48.874125::count 15::DEBUG::executed post function of component worker\n",
      "DEBUG::worker::2021-01-12 16:13:36::DEBUG::after calling post sub functions\n",
      "DEBUG::indicator_parser::2021-01-12 16:13:36::DEBUG::after calling sub component\n",
      "DEBUG::indicator_parser::2021-01-12 16:13:36::DEBUG::before calling post sub functions\n",
      "DEBUG::indicator_parser::2021-01-12 16:13:36::DEBUG::executing post function\n",
      "CASE::id 1::2021-01-12 16:13:48.974125::count 16::DEBUG::executed post function of component indicator_parser\n",
      "DEBUG::indicator_parser::2021-01-12 16:13:36::DEBUG::after calling post sub functions\n",
      "DEBUG::email_service::2021-01-12 16:13:36::DEBUG::after calling sub component\n",
      "DEBUG::email_service::2021-01-12 16:13:36::DEBUG::before calling post sub functions\n",
      "DEBUG::email_service::2021-01-12 16:13:36::DEBUG::executing post function\n",
      "CASE::id 1::2021-01-12 16:13:50.774125::count 17::DEBUG::executed post function of component email_service\n",
      "DEBUG::email_service::2021-01-12 16:13:36::DEBUG::after calling post sub functions\n",
      "DEBUG::guardia_api::2021-01-12 16:13:36::DEBUG::after calling sub component\n",
      "DEBUG::guardia_api::2021-01-12 16:13:36::DEBUG::before calling post sub functions\n",
      "DEBUG::guardia_api::2021-01-12 16:13:36::DEBUG::executing post function\n",
      "CASE::id 1::2021-01-12 16:13:50.874125::count 18::DEBUG::executed post function of component guardia_api\n",
      "DEBUG::guardia_api::2021-01-12 16:13:36::DEBUG::after calling post sub functions\n",
      "DEBUG::auth_proxy::2021-01-12 16:13:36::DEBUG::after calling sub component\n"
     ]
    }
   ],
   "source": [
    "caseLogger = setup_logger(\"long_correlator_case\")\n",
    "case = CaseCapsule(\"1\", caseLogger)\n",
    "\n",
    "auth_proxy.exec(case)"
   ]
  },
  {
   "cell_type": "code",
   "execution_count": null,
   "metadata": {},
   "outputs": [],
   "source": []
  }
 ],
 "metadata": {
  "kernelspec": {
   "display_name": "Python 3",
   "language": "python",
   "name": "python3"
  },
  "language_info": {
   "codemirror_mode": {
    "name": "ipython",
    "version": 3
   },
   "file_extension": ".py",
   "mimetype": "text/x-python",
   "name": "python",
   "nbconvert_exporter": "python",
   "pygments_lexer": "ipython3",
   "version": "3.9.0-final"
  },
  "orig_nbformat": 2
 },
 "nbformat": 4,
 "nbformat_minor": 2
}