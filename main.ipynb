{
 "cells": [
  {
   "cell_type": "markdown",
   "metadata": {},
   "source": [
    "# Logging Tracing Concept for Email Workflow"
   ]
  },
  {
   "cell_type": "markdown",
   "metadata": {},
   "source": [
    "As the production system is not ready yet, and even if it would be there is not enough time to gather enough test data\n",
    "to validate the concept necessary for demonstration.\n",
    "\n",
    "To properly validate the concept the demo has to check the requirements below:\n",
    "* simulate every component existing in future production system\n",
    "* simulate errors / full failures in specific components to validate concept\n",
    "* produce large amounts of realistic test data in a short amount of time"
   ]
  },
  {
   "cell_type": "code",
   "execution_count": 57,
   "metadata": {},
   "outputs": [],
   "source": [
    "import sys\n",
    "import random\n",
    "import datetime\n",
    "import logging\n",
    "from logging import config\n",
    "from unittest.mock import MagicMock"
   ]
  },
  {
   "cell_type": "code",
   "execution_count": 58,
   "metadata": {},
   "outputs": [],
   "source": [
    "case_format = \"CASE::%(case)s::%(levelname)s::%(message)s\"\n",
    "debug_format = \"DEBUG::%(component)s::%(asctime)s::%(levelname)s::%(message)s\"\n",
    "debug_date_format = \"%Y-%m-%d %H:%M:%S\"\n",
    "\n",
    "def get_handlers(name, level, console):\n",
    "    handler_dict = {\n",
    "        f'{name}_file': {\n",
    "            'class': 'logging.FileHandler',\n",
    "            'level': level,\n",
    "            'formatter': 'debug' if name == 'debug' else 'case',\n",
    "            'filename': f'./log/{name}.log'\n",
    "        },\n",
    "    }\n",
    "    if console:\n",
    "        handler_dict[f'{name}_console'] = {\n",
    "            'class': 'logging.StreamHandler',\n",
    "            'level': level,\n",
    "            'formatter': 'debug' if name == 'debug' else 'case',\n",
    "            'stream': 'ext://sys.stdout'\n",
    "        }\n",
    "    return handler_dict\n",
    "\n",
    "def setup_logger(name, console=True):\n",
    "    level = logging.DEBUG\n",
    "    handlers = [ f'{name}_file' ]\n",
    "    if console:\n",
    "        handlers.append(f'{name}_console')\n",
    "    config.dictConfig({\n",
    "        'version': 1,\n",
    "        'disable_existing_loggers': False,\n",
    "        'formatters': {\n",
    "            'debug': {'format': debug_format, 'datefmt': debug_date_format},\n",
    "            'case': {'format': case_format}\n",
    "        },\n",
    "        'handlers': get_handlers(name, level, console),\n",
    "        'loggers': {\n",
    "            f'{name}': {\n",
    "                'level': level,\n",
    "                'handlers': handlers,\n",
    "            },\n",
    "        }\n",
    "    })\n",
    "    return logging.getLogger(name)\n",
    "\n",
    "caseLogger = setup_logger(\"case\", False)\n",
    "debugLogger = setup_logger(\"debug\", False)"
   ]
  },
  {
   "cell_type": "code",
   "execution_count": 59,
   "metadata": {},
   "outputs": [],
   "source": [
    "class LoggerWrapper:\n",
    "    def __init__(self, logger, logger_props):\n",
    "        self._logger_props = logger_props\n",
    "        self._logger = logger\n",
    "\n",
    "    def __getattr__(self, attr):\n",
    "        local_props = self._logger_props\n",
    "        def wrapped(message):\n",
    "            return getattr(self._logger, attr)(message, extra=local_props)\n",
    "        return wrapped"
   ]
  },
  {
   "cell_type": "code",
   "execution_count": 60,
   "metadata": {},
   "outputs": [],
   "source": [
    "debugLogger.info(\"test debug logger\", extra={'component':\"Comp1\"})\n",
    "caseLogger.info(\"test case logger\", extra={'case':\"Case1\"})"
   ]
  },
  {
   "cell_type": "code",
   "execution_count": 61,
   "metadata": {},
   "outputs": [],
   "source": [
    "class CaseCapsule:\n",
    "    def __init__(self, id: str, offset=0, logger: logging.Logger=caseLogger):\n",
    "        # TODO\n",
    "        self._id = id\n",
    "        self._last_seen = datetime.datetime.today()\n",
    "        self._counter = -1\n",
    "        self._log = logger\n",
    "        self._lost = False\n",
    "        self.add_seconds(offset)\n",
    "\n",
    "    def loose(self):\n",
    "        self._lost = True\n",
    "\n",
    "    @property\n",
    "    def id(self):\n",
    "        return self._id\n",
    "\n",
    "    @property\n",
    "    def last_seen(self):\n",
    "        return self._last_seen\n",
    "\n",
    "    @property\n",
    "    def counter(self):\n",
    "        return self._counter\n",
    "\n",
    "    def add_seconds(self, seconds):\n",
    "        self._counter += 1\n",
    "        timedelta = datetime.timedelta(seconds=seconds)\n",
    "        self._last_seen += timedelta\n",
    "\n",
    "    @property\n",
    "    def log(self):\n",
    "        if self._lost:\n",
    "            return unittest.mock.MagicMock()\n",
    "        return LoggerWrapper(self._log, {'case':str(self)})\n",
    "\n",
    "    def __str__(self):\n",
    "        return f\"id {self._id}::{self._last_seen}::count {self._counter}\""
   ]
  },
  {
   "cell_type": "code",
   "execution_count": 62,
   "metadata": {},
   "outputs": [
    {
     "output_type": "stream",
     "name": "stdout",
     "text": [
      "id 42::2021-01-18 18:47:24.631042::count 0\nid 42::2021-01-18 18:49:04.631042::count 1\n"
     ]
    }
   ],
   "source": [
    "case = CaseCapsule(\"42\")\n",
    "print(case)\n",
    "case.add_seconds(100)\n",
    "print(case)"
   ]
  },
  {
   "cell_type": "code",
   "execution_count": 63,
   "metadata": {},
   "outputs": [],
   "source": [
    "newLogger = LoggerWrapper(caseLogger, {'case': 'hello_world'})\n",
    "\n",
    "newLogger.debug('test log')"
   ]
  },
  {
   "cell_type": "code",
   "execution_count": 64,
   "metadata": {},
   "outputs": [],
   "source": [
    "class Component:\n",
    "    def __init__(self, name, pre_sub_function, post_sub_function, debug_logger=debugLogger, sub_component=None):\n",
    "        self._name = name\n",
    "        self._pre_sub_function = pre_sub_function\n",
    "        self._post_sub_function = post_sub_function\n",
    "        self._sub_component = sub_component\n",
    "        self._debug_logger = LoggerWrapper(debug_logger, {'component':name})\n",
    "\n",
    "    def exec(self, case: CaseCapsule):\n",
    "        if self._pre_sub_function:\n",
    "            self._debug_logger.debug('before calling pre sub functions')\n",
    "            self._pre_sub_function(case, self._debug_logger, self._name)\n",
    "            self._debug_logger.debug('after calling pre sub functions')\n",
    "        \n",
    "        if self._sub_component:\n",
    "            self._debug_logger.debug('before calling sub component')\n",
    "            self._sub_component.exec(case)\n",
    "            self._debug_logger.debug('after calling sub component')\n",
    "        \n",
    "        if self._post_sub_function:\n",
    "            self._debug_logger.debug('before calling post sub functions')\n",
    "            self._post_sub_function(case, self._debug_logger, self._name)\n",
    "            self._debug_logger.debug('after calling post sub functions')"
   ]
  },
  {
   "cell_type": "code",
   "execution_count": 65,
   "metadata": {},
   "outputs": [],
   "source": [
    "def test_pre_fun(case:CaseCapsule, logger: logging.Logger, name):\n",
    "    logger.debug('some demo pre function')\n",
    "    case.add_seconds(2)\n",
    "    case.log.debug(f'executed pre of component {name}')\n",
    "\n",
    "def test_post_fun(case:CaseCapsule, logger: logging.Logger, name):\n",
    "    logger.debug('some demo post function')\n",
    "    case.add_seconds(2)\n",
    "    case.log.debug(f'executed post of component {name}')\n",
    "\n",
    "comp = Component(\"TestComp\", test_pre_fun, test_post_fun)\n",
    "\n",
    "case = CaseCapsule(\"1\")\n",
    "\n",
    "comp.exec(case)"
   ]
  },
  {
   "cell_type": "code",
   "execution_count": 66,
   "metadata": {},
   "outputs": [
    {
     "output_type": "stream",
     "name": "stdout",
     "text": [
      "id 1::2021-01-18 18:47:28.771297::count 2\nid 1::2021-01-18 18:47:28.871297::count 3\n"
     ]
    }
   ],
   "source": [
    "def simulate_timeout(ceil=10, likelihood=0.9):\n",
    "    # decide if timeout should be added\n",
    "    is_timeout = random.random()\n",
    "\n",
    "    if is_timeout > likelihood:\n",
    "        # add timeout between range of ceil\n",
    "        return random.randrange(ceil*10)/10\n",
    "    \n",
    "    return 0.1\n",
    "\n",
    "def simulate_dropout(likelihood=0.2):\n",
    "    # decide if event should be dropped\n",
    "    is_timeout = random.random()\n",
    "\n",
    "    return is_timeout < likelihood\n",
    "\n",
    "\n",
    "print(case)\n",
    "case.add_seconds(simulate_timeout(10, 0.6))\n",
    "print(case)"
   ]
  },
  {
   "cell_type": "code",
   "execution_count": 67,
   "metadata": {},
   "outputs": [],
   "source": [
    "def create_simulation_data(component, nr_cases, logger):\n",
    "    for i in range(nr_cases):\n",
    "        case = CaseCapsule(f\"{i}\", random.randrange(1000)/100, logger)\n",
    "        component.exec(case)\n"
   ]
  },
  {
   "cell_type": "markdown",
   "metadata": {},
   "source": [
    "# Define simulation scenarios\n",
    "\n"
   ]
  },
  {
   "cell_type": "markdown",
   "metadata": {},
   "source": [
    "## Nice weather case simulation\n",
    "Nice weather case scenario models the process optimal response time and throughput"
   ]
  },
  {
   "cell_type": "code",
   "execution_count": 68,
   "metadata": {},
   "outputs": [],
   "source": [
    "def nice_weather_pre_function(case:CaseCapsule, logger: logging.Logger, name):\n",
    "    logger.debug('executing pre function')\n",
    "    case.add_seconds(simulate_timeout(2, 0.9))\n",
    "    case.log.debug(f'executed pre function of component {name}')\n",
    "\n",
    "def nice_weather_post_function(case:CaseCapsule, logger: logging.Logger, name):\n",
    "    logger.debug('executing post function')\n",
    "    case.add_seconds(simulate_timeout(2, 0.9))\n",
    "    case.log.debug(f'executed post function of component {name}')\n",
    "\n",
    "notification_service = Component(\"notification_service\", nice_weather_pre_function, nice_weather_post_function, debugLogger)\n",
    "correlator = Component(\"correlator\", nice_weather_pre_function, nice_weather_post_function, debugLogger, notification_service)\n",
    "analytics = Component(\"analytics\", nice_weather_pre_function, nice_weather_post_function, debugLogger, correlator)\n",
    "workflow_engine = Component(\"workflow_engine\", nice_weather_pre_function, nice_weather_post_function, debugLogger, analytics)\n",
    "worker = Component(\"worker\", nice_weather_pre_function, nice_weather_post_function, debugLogger, workflow_engine)\n",
    "indicator_parser = Component(\"indicator_parser\", nice_weather_pre_function, nice_weather_post_function, debugLogger, worker)\n",
    "email_service = Component(\"email_service\", nice_weather_pre_function, nice_weather_post_function, debugLogger, indicator_parser)\n",
    "guardia_api = Component(\"guardia_api\", nice_weather_pre_function, nice_weather_post_function, debugLogger, email_service)\n",
    "auth_proxy = Component(\"auth_proxy\", nice_weather_pre_function, None, debugLogger, guardia_api)"
   ]
  },
  {
   "cell_type": "code",
   "execution_count": 69,
   "metadata": {},
   "outputs": [
    {
     "output_type": "stream",
     "name": "stdout",
     "text": [
      "CASE::id 1::2021-01-18 18:47:25.101313::count 1::DEBUG::executed pre function of component auth_proxy\n",
      "CASE::id 1::2021-01-18 18:47:25.201313::count 2::DEBUG::executed pre function of component guardia_api\n",
      "CASE::id 1::2021-01-18 18:47:25.301313::count 3::DEBUG::executed pre function of component email_service\n",
      "CASE::id 1::2021-01-18 18:47:25.401313::count 4::DEBUG::executed pre function of component indicator_parser\n",
      "CASE::id 1::2021-01-18 18:47:25.501313::count 5::DEBUG::executed pre function of component worker\n",
      "CASE::id 1::2021-01-18 18:47:25.601313::count 6::DEBUG::executed pre function of component workflow_engine\n",
      "CASE::id 1::2021-01-18 18:47:25.701313::count 7::DEBUG::executed pre function of component analytics\n",
      "CASE::id 1::2021-01-18 18:47:25.801313::count 8::DEBUG::executed pre function of component correlator\n",
      "CASE::id 1::2021-01-18 18:47:25.901313::count 9::DEBUG::executed pre function of component notification_service\n",
      "CASE::id 1::2021-01-18 18:47:27.201313::count 10::DEBUG::executed post function of component notification_service\n",
      "CASE::id 1::2021-01-18 18:47:27.301313::count 11::DEBUG::executed post function of component correlator\n",
      "CASE::id 1::2021-01-18 18:47:27.401313::count 12::DEBUG::executed post function of component analytics\n",
      "CASE::id 1::2021-01-18 18:47:27.501313::count 13::DEBUG::executed post function of component workflow_engine\n",
      "CASE::id 1::2021-01-18 18:47:27.601313::count 14::DEBUG::executed post function of component worker\n",
      "CASE::id 1::2021-01-18 18:47:27.701313::count 15::DEBUG::executed post function of component indicator_parser\n",
      "CASE::id 1::2021-01-18 18:47:27.801313::count 16::DEBUG::executed post function of component email_service\n",
      "CASE::id 1::2021-01-18 18:47:27.901313::count 17::DEBUG::executed post function of component guardia_api\n"
     ]
    }
   ],
   "source": [
    "caseLogger = setup_logger(\"nice_weather_case\")\n",
    "case = CaseCapsule(\"1\", 0, caseLogger)\n",
    "\n",
    "auth_proxy.exec(case)"
   ]
  },
  {
   "cell_type": "markdown",
   "metadata": {},
   "source": [
    "## Simulating inconsistent and slow correlator"
   ]
  },
  {
   "cell_type": "code",
   "execution_count": 70,
   "metadata": {},
   "outputs": [],
   "source": [
    "def long_pre_function(case:CaseCapsule, logger: logging.Logger, name):\n",
    "    logger.debug('executing pre function')\n",
    "    case.add_seconds(simulate_timeout(10, 0.4))\n",
    "    case.log.debug(f'executed pre function of component {name}')\n",
    "\n",
    "def long_post_function(case:CaseCapsule, logger: logging.Logger, name):\n",
    "    logger.debug('executing post function')\n",
    "    case.add_seconds(simulate_timeout(5, 0.3))\n",
    "    case.log.debug(f'executed post function of component {name}')\n",
    "\n",
    "notification_service = Component(\"notification_service\", nice_weather_pre_function, nice_weather_post_function, debugLogger)\n",
    "correlator = Component(\"correlator\", long_pre_function, long_post_function, debugLogger, notification_service)\n",
    "analytics = Component(\"analytics\", nice_weather_pre_function, nice_weather_post_function, debugLogger, correlator)\n",
    "workflow_engine = Component(\"workflow_engine\", nice_weather_pre_function, nice_weather_post_function, debugLogger, analytics)\n",
    "worker = Component(\"worker\", nice_weather_pre_function, nice_weather_post_function, debugLogger, workflow_engine)\n",
    "indicator_parser = Component(\"indicator_parser\", nice_weather_pre_function, nice_weather_post_function, debugLogger, worker)\n",
    "email_service = Component(\"email_service\", nice_weather_pre_function, nice_weather_post_function, debugLogger, indicator_parser)\n",
    "guardia_api = Component(\"guardia_api\", nice_weather_pre_function, nice_weather_post_function, debugLogger, email_service)\n",
    "auth_proxy = Component(\"auth_proxy\", nice_weather_pre_function, None, debugLogger, guardia_api)"
   ]
  },
  {
   "cell_type": "code",
   "execution_count": 71,
   "metadata": {
    "tags": []
   },
   "outputs": [],
   "source": [
    "caseLogger = setup_logger(\"long_correlator_case\", False)\n",
    "\n",
    "create_simulation_data(auth_proxy, 1000, caseLogger)"
   ]
  },
  {
   "source": [
    "## Simulating inconsistent and slow correlator, plus forgetting and inconsistent worker"
   ],
   "cell_type": "markdown",
   "metadata": {}
  },
  {
   "cell_type": "code",
   "execution_count": 72,
   "metadata": {},
   "outputs": [],
   "source": [
    "def long_post_and_dropput_function(case:CaseCapsule, logger: logging.Logger, name):\n",
    "    logger.debug('executing post function')\n",
    "    if (simulate_dropout()):\n",
    "        case.loose()\n",
    "    case.add_seconds(simulate_timeout(5, 0.3))\n",
    "    case.log.debug(f'executed post function of component {name}')\n",
    "\n",
    "notification_service = Component(\"notification_service\", nice_weather_pre_function, nice_weather_post_function, debugLogger)\n",
    "correlator = Component(\"correlator\", long_pre_function, long_post_function, debugLogger, notification_service)\n",
    "analytics = Component(\"analytics\", nice_weather_pre_function, nice_weather_post_function, debugLogger, correlator)\n",
    "workflow_engine = Component(\"workflow_engine\", nice_weather_pre_function, nice_weather_post_function, debugLogger, analytics)\n",
    "worker = Component(\"worker\", long_post_and_dropput_function, nice_weather_post_function, debugLogger, workflow_engine)\n",
    "indicator_parser = Component(\"indicator_parser\", nice_weather_pre_function, nice_weather_post_function, debugLogger, worker)\n",
    "email_service = Component(\"email_service\", nice_weather_pre_function, nice_weather_post_function, debugLogger, indicator_parser)\n",
    "guardia_api = Component(\"guardia_api\", nice_weather_pre_function, nice_weather_post_function, debugLogger, email_service)\n",
    "auth_proxy = Component(\"auth_proxy\", nice_weather_pre_function, None, debugLogger, guardia_api)"
   ]
  },
  {
   "cell_type": "code",
   "execution_count": 73,
   "metadata": {},
   "outputs": [],
   "source": [
    "caseLogger = setup_logger(\"long_correlator_worker_case\", False)\n",
    "\n",
    "create_simulation_data(auth_proxy, 1000, caseLogger)"
   ]
  },
  {
   "cell_type": "code",
   "execution_count": null,
   "metadata": {},
   "outputs": [],
   "source": []
  }
 ],
 "metadata": {
  "kernelspec": {
   "name": "python3",
   "display_name": "Python 3.8.7 64-bit ('venv')",
   "metadata": {
    "interpreter": {
     "hash": "8c60d4614b3efc3c843c38d94f86436d9ee35e40ebeeeddb194ee873dcd5f91f"
    }
   }
  },
  "language_info": {
   "codemirror_mode": {
    "name": "ipython",
    "version": 3
   },
   "file_extension": ".py",
   "mimetype": "text/x-python",
   "name": "python",
   "nbconvert_exporter": "python",
   "pygments_lexer": "ipython3",
   "version": "3.8.7-final"
  },
  "orig_nbformat": 2
 },
 "nbformat": 4,
 "nbformat_minor": 2
}