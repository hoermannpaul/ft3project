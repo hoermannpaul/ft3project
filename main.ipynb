{
 "cells": [
  {
   "cell_type": "markdown",
   "metadata": {},
   "source": [
    "# Logging Tracing Concept for Email Workflow"
   ]
  },
  {
   "cell_type": "markdown",
   "metadata": {},
   "source": [
    "As the production system is not ready yet, and even if it would be there is not enough time to gather enough test data to validate the concept a demo is needed.\n",
    "\n",
    "To properly validate the concept the demo has to check below requirements:\n",
    "* simulate every component existing in future production system\n",
    "* simulate errors / full failures in specific components to validate concept\n",
    "* produce large amount of realistic test data in a short amount of time"
   ]
  },
  {
   "cell_type": "code",
   "execution_count": 1,
   "metadata": {},
   "outputs": [],
   "source": [
    "import datetime\n",
    "import logging\n",
    "from logging import config\n",
    "import sys"
   ]
  },
  {
   "cell_type": "code",
   "execution_count": 2,
   "metadata": {},
   "outputs": [],
   "source": [
    "case_format = \"CASE::%(levelname)s::<<<%(message)s>>>\"\n",
    "debug_format = \"DEBUG::%(asctime)s::%(levelname)s::<<<%(message)s>>>\"\n",
    "debug_date_format = \"%Y-%m-%d %H:%M:%S\"\n",
    "\n",
    "def setup_logger(name):\n",
    "    level = logging.INFO\n",
    "    config.dictConfig({\n",
    "        'version': 1,\n",
    "        'disable_existing_loggers': True,\n",
    "        'formatters': {\n",
    "            'debug': {'format': debug_format, 'datefmt': debug_date_format},\n",
    "            'case': {'format': case_format}\n",
    "        },\n",
    "        'handlers': {\n",
    "            'debug_console': {\n",
    "                'class': 'logging.StreamHandler',\n",
    "                'level': level,\n",
    "                'formatter': 'debug',\n",
    "                'stream': 'ext://sys.stdout'\n",
    "            },\n",
    "            'case_console': {\n",
    "                'class': 'logging.StreamHandler',\n",
    "                'level': level,\n",
    "                'formatter': 'case',\n",
    "                'stream': 'ext://sys.stdout'\n",
    "            },\n",
    "            'debug_file': {\n",
    "                'class': 'logging.FileHandler',\n",
    "                'level': level,\n",
    "                'formatter': 'debug',\n",
    "                'filename': 'debug.log'\n",
    "            },\n",
    "            'case_file': {\n",
    "                'class': 'logging.FileHandler',\n",
    "                'level': level,\n",
    "                'formatter': 'case',\n",
    "                'filename': 'case.log'\n",
    "            },\n",
    "        },\n",
    "        'loggers': {\n",
    "            'debug': {\n",
    "                'level': level,\n",
    "                'handlers': ['debug_console', 'debug_file']\n",
    "            },\n",
    "            'case': {\n",
    "                'level': level,\n",
    "                'handlers': ['case_console', 'case_file']\n",
    "            }\n",
    "        }\n",
    "    })\n",
    "    return logging.getLogger(name)\n",
    "\n",
    "debugLogger = setup_logger(\"debug\")\n",
    "caseLogger = setup_logger(\"case\")"
   ]
  },
  {
   "cell_type": "code",
   "execution_count": 3,
   "metadata": {},
   "outputs": [
    {
     "name": "stdout",
     "output_type": "stream",
     "text": [
      "DEBUG::2021-01-04 14:13:26::INFO::<<<HELLO>>>\n",
      "CASE::INFO::<<<HELLOOOOOO>>>\n"
     ]
    }
   ],
   "source": [
    "debugLogger.info(\"HELLO\")\n",
    "caseLogger.info(\"HELLOOOOOO\")"
   ]
  },
  {
   "cell_type": "code",
   "execution_count": 4,
   "metadata": {},
   "outputs": [],
   "source": [
    "class CaseCapsule:\n",
    "    def __init__(self, id: str, logger: logging.Logger):\n",
    "        # TODO\n",
    "        self._id = id;\n",
    "        self._last_seen = datetime.datetime.today()\n",
    "        self._counter = 1\n",
    "        self._logger = logger\n",
    "\n",
    "    @property\n",
    "    def id(self):\n",
    "        return self._id\n",
    "\n",
    "    @property\n",
    "    def last_seen(self):\n",
    "        return self._last_seen\n",
    "\n",
    "    @property\n",
    "    def counter(self):\n",
    "        return self._counter\n",
    "\n",
    "    def add_seconds(self, seconds):\n",
    "        self._counter += 1\n",
    "        timedelta = datetime.timedelta(seconds=seconds)\n",
    "        self._last_seen += timedelta\n",
    "\n",
    "    @property\n",
    "    def logger(self):\n",
    "        return self._logger\n",
    "\n",
    "    def __str__(self):\n",
    "        return f\"Case id[{self._id}] last_seen[{self._last_seen}] counter[{self._counter}]\""
   ]
  },
  {
   "cell_type": "code",
   "execution_count": 5,
   "metadata": {},
   "outputs": [
    {
     "ename": "TypeError",
     "evalue": "__init__() missing 1 required positional argument: 'logger'",
     "output_type": "error",
     "traceback": [
      "\u001b[0;31m---------------------------------------------------------------------------\u001b[0m",
      "\u001b[0;31mTypeError\u001b[0m                                 Traceback (most recent call last)",
      "\u001b[0;32m<ipython-input-5-2d50c18a4223>\u001b[0m in \u001b[0;36m<module>\u001b[0;34m\u001b[0m\n\u001b[0;32m----> 1\u001b[0;31m \u001b[0mcase\u001b[0m \u001b[0;34m=\u001b[0m \u001b[0mCaseCapsule\u001b[0m\u001b[0;34m(\u001b[0m\u001b[0;34m\"123ab\"\u001b[0m\u001b[0;34m)\u001b[0m\u001b[0;34m\u001b[0m\u001b[0;34m\u001b[0m\u001b[0m\n\u001b[0m\u001b[1;32m      2\u001b[0m \u001b[0mprint\u001b[0m\u001b[0;34m(\u001b[0m\u001b[0mcase\u001b[0m\u001b[0;34m)\u001b[0m\u001b[0;34m\u001b[0m\u001b[0;34m\u001b[0m\u001b[0m\n\u001b[1;32m      3\u001b[0m \u001b[0mcase\u001b[0m\u001b[0;34m.\u001b[0m\u001b[0madd_seconds\u001b[0m\u001b[0;34m(\u001b[0m\u001b[0;36m129\u001b[0m\u001b[0;34m)\u001b[0m\u001b[0;34m\u001b[0m\u001b[0;34m\u001b[0m\u001b[0m\n\u001b[1;32m      4\u001b[0m \u001b[0mprint\u001b[0m\u001b[0;34m(\u001b[0m\u001b[0mcase\u001b[0m\u001b[0;34m)\u001b[0m\u001b[0;34m\u001b[0m\u001b[0;34m\u001b[0m\u001b[0m\n",
      "\u001b[0;31mTypeError\u001b[0m: __init__() missing 1 required positional argument: 'logger'"
     ]
    }
   ],
   "source": [
    "case = CaseCapsule(\"123ab\")\n",
    "print(case)\n",
    "case.add_seconds(129)\n",
    "print(case)"
   ]
  },
  {
   "cell_type": "code",
   "execution_count": null,
   "metadata": {},
   "outputs": [],
   "source": [
    "class Component:\n",
    "    def __init__(self, pre_sub_function, post_sub_function, debug_logger, sub_component=None):\n",
    "        # TODO\n",
    "        self._pre_sub_function = pre_sub_function\n",
    "        self._post_sub_function = post_sub_function\n",
    "        self._sub_component = sub_component\n",
    "        self._debug_logger = debug_logger\n",
    "\n",
    "    def exec(self, case: CaseCapsule):\n",
    "        self._debug_logger.log.debug('before calling pre sub functions')\n",
    "        self._pre_sub_function(case, self._debug_logger)\n",
    "        self._debug_logger.log.debug('after calling pre sub functions')\n",
    "        if self._sub_component:\n",
    "            self._debug_logger.log.debug('before calling sub component')\n",
    "            self._sub_component.exec()\n",
    "            self._debug_logger.log.debug('after calling sub component')\n",
    "        self._debug_logger.log.debug('before calling post sub functions')\n",
    "        self._post_sub_function(case, self._debug_logger)\n",
    "        self._debug_logger.log.debug('after calling post sub functions')"
   ]
  },
  {
   "cell_type": "code",
   "execution_count": null,
   "metadata": {},
   "outputs": [],
   "source": [
    "def test_pre_fun(case:Case, logger: logging.Logger):\n",
    "    logger.log.debug('some demo pre function')\n",
    "    case.add_seconds(2)"
   ]
  }
 ],
 "metadata": {
  "kernelspec": {
   "display_name": "Python 3.8.6 64-bit ('venv')",
   "metadata": {
    "interpreter": {
     "hash": "e68b57ddcb6f5de4571f420206f1a700feced0ae412d4c8059b8db0a547ab032"
    }
   },
   "name": "python3"
  },
  "language_info": {
   "codemirror_mode": {
    "name": "ipython",
    "version": 3
   },
   "file_extension": ".py",
   "mimetype": "text/x-python",
   "name": "python",
   "nbconvert_exporter": "python",
   "pygments_lexer": "ipython3",
   "version": "3.8.6"
  },
  "orig_nbformat": 2
 },
 "nbformat": 4,
 "nbformat_minor": 2
}