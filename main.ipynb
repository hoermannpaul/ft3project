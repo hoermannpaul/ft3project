{
 "cells": [
  {
   "cell_type": "markdown",
   "metadata": {},
   "source": [
    "# Logging Tracing Concept for Email Workflow"
   ]
  },
  {
   "cell_type": "markdown",
   "metadata": {},
   "source": [
    "As the production system is not ready yet, and even if it would be there is not enough time to gather enough test data to validate the concept a demo is needed.\n",
    "\n",
    "To properly validate the concept the demo has to check below requirements:\n",
    "* simulate every component existing in future production system\n",
    "* simulate errors / full failures in specific components to validate concept\n",
    "* produce large amount of realistic test data in a short amount of time"
   ]
  },
  {
   "cell_type": "code",
   "execution_count": 1,
   "metadata": {},
   "outputs": [],
   "source": [
    "import datetime\n",
    "import logging\n",
    "from logging import config\n",
    "import random\n",
    "import sys"
   ]
  },
  {
   "cell_type": "code",
   "execution_count": 2,
   "metadata": {},
   "outputs": [],
   "source": [
    "case_format = \"CASE::%(case)s::%(levelname)s::<<<%(message)s>>>\"\n",
    "debug_format = \"DEBUG::%(component)s::%(asctime)s::%(levelname)s::<<<%(message)s>>>\"\n",
    "debug_date_format = \"%Y-%m-%d %H:%M:%S\"\n",
    "\n",
    "def setup_logger(name):\n",
    "    level = logging.DEBUG\n",
    "    config.dictConfig({\n",
    "        'version': 1,\n",
    "        'disable_existing_loggers': True,\n",
    "        'formatters': {\n",
    "            'debug': {'format': debug_format, 'datefmt': debug_date_format},\n",
    "            'case': {'format': case_format}\n",
    "        },\n",
    "        'handlers': {\n",
    "            'debug_console': {\n",
    "                'class': 'logging.StreamHandler',\n",
    "                'level': level,\n",
    "                'formatter': 'debug',\n",
    "                'stream': 'ext://sys.stdout'\n",
    "            },\n",
    "            'case_console': {\n",
    "                'class': 'logging.StreamHandler',\n",
    "                'level': level,\n",
    "                'formatter': 'case',\n",
    "                'stream': 'ext://sys.stdout'\n",
    "            },\n",
    "            'debug_file': {\n",
    "                'class': 'logging.FileHandler',\n",
    "                'level': level,\n",
    "                'formatter': 'debug',\n",
    "                'filename': 'debug.log'\n",
    "            },\n",
    "            'case_file': {\n",
    "                'class': 'logging.FileHandler',\n",
    "                'level': level,\n",
    "                'formatter': 'case',\n",
    "                'filename': 'case.log'\n",
    "            },\n",
    "             'nice_weather_case_file': {\n",
    "                'class': 'logging.FileHandler',\n",
    "                'level': level,\n",
    "                'formatter': 'case',\n",
    "                'filename': 'nice_weather_case.log'\n",
    "            },\n",
    "             'long_correlator_case_file': {\n",
    "                'class': 'logging.FileHandler',\n",
    "                'level': level,\n",
    "                'formatter': 'case',\n",
    "                'filename': 'long_correlator_case.log'\n",
    "            },\n",
    "        },\n",
    "        'loggers': {\n",
    "            'debug': {\n",
    "                'level': level,\n",
    "                'handlers': ['debug_console', 'debug_file']\n",
    "            },\n",
    "            'case': {\n",
    "                'level': level,\n",
    "                'handlers': ['case_console', 'case_file']\n",
    "            },\n",
    "             'nice_weather_case': {\n",
    "                'level': level,\n",
    "                'handlers': ['case_console', 'nice_weather_case_file']\n",
    "            },\n",
    "            'long_correlator_case': {\n",
    "                'level': level,\n",
    "                'handlers': ['case_console', 'long_correlator_case_file']\n",
    "            }\n",
    "        }\n",
    "    })\n",
    "    return logging.getLogger(name)\n",
    "\n",
    "debugLogger = setup_logger(\"debug\")\n",
    "caseLogger = setup_logger(\"case\")"
   ]
  },
  {
   "cell_type": "code",
   "execution_count": 3,
   "metadata": {},
   "outputs": [],
   "source": [
    "class LoggerWrapper:\n",
    "    def __init__(self, logger, logger_props):\n",
    "        self._logger_props = logger_props\n",
    "        self._logger = logger\n",
    "\n",
    "    def __getattr__(self, attr):\n",
    "        localprops = self._logger_props\n",
    "        def wrapped(message):\n",
    "            return getattr(self._logger, attr)(message, extra=localprops)\n",
    "        return wrapped"
   ]
  },
  {
   "cell_type": "code",
   "execution_count": 4,
   "metadata": {},
   "outputs": [
    {
     "name": "stdout",
     "output_type": "stream",
     "text": [
      "DEBUG::Comp1::2021-01-04 16:25:38::INFO::<<<HELLO>>>\n"
     ]
    }
   ],
   "source": [
    "debugLogger.info(\"HELLO\", extra={'component':\"Comp1\"})\n",
    "# caseLogger.info(\"HELLOOOOOO\", extra={'case':\"Case1\"})"
   ]
  },
  {
   "cell_type": "code",
   "execution_count": 5,
   "metadata": {},
   "outputs": [],
   "source": [
    "class CaseCapsule:\n",
    "    def __init__(self, id: str, logger: logging.Logger=caseLogger):\n",
    "        # TODO\n",
    "        self._id = id;\n",
    "        self._last_seen = datetime.datetime.today()\n",
    "        self._counter = 1\n",
    "        self._log = logger\n",
    "\n",
    "    @property\n",
    "    def id(self):\n",
    "        return self._id\n",
    "\n",
    "    @property\n",
    "    def last_seen(self):\n",
    "        return self._last_seen\n",
    "\n",
    "    @property\n",
    "    def counter(self):\n",
    "        return self._counter\n",
    "\n",
    "    def add_seconds(self, seconds):\n",
    "        self._counter += 1\n",
    "        timedelta = datetime.timedelta(seconds=seconds)\n",
    "        self._last_seen += timedelta\n",
    "\n",
    "    @property\n",
    "    def log(self):\n",
    "        return LoggerWrapper(self._log, {'case':str(self)})\n",
    "\n",
    "    def __str__(self):\n",
    "        return f\"id[{self._id}]::last_seen[{self._last_seen}]::counter[{self._counter}]\""
   ]
  },
  {
   "cell_type": "code",
   "execution_count": 6,
   "metadata": {},
   "outputs": [
    {
     "name": "stdout",
     "output_type": "stream",
     "text": [
      "id[123ab]::last_seen[2021-01-04 16:25:38.081882]::counter[1]\n",
      "id[123ab]::last_seen[2021-01-04 16:27:47.081882]::counter[2]\n"
     ]
    }
   ],
   "source": [
    "case = CaseCapsule(\"123ab\")\n",
    "print(case)\n",
    "case.add_seconds(129)\n",
    "print(case)"
   ]
  },
  {
   "cell_type": "code",
   "execution_count": 7,
   "metadata": {},
   "outputs": [
    {
     "name": "stdout",
     "output_type": "stream",
     "text": [
      "CASE::hello_world::DEBUG::<<<test log>>>\n"
     ]
    }
   ],
   "source": [
    "newLogger = LoggerWrapper(caseLogger, {'case': 'hello_world'})\n",
    "\n",
    "newLogger.debug('test log')"
   ]
  },
  {
   "cell_type": "code",
   "execution_count": 8,
   "metadata": {},
   "outputs": [],
   "source": [
    "class Component:\n",
    "    def __init__(self, name, pre_sub_function, post_sub_function, debug_logger=debugLogger, sub_component=None):\n",
    "        self._name = name\n",
    "        self._pre_sub_function = pre_sub_function\n",
    "        self._post_sub_function = post_sub_function\n",
    "        self._sub_component = sub_component\n",
    "        self._debug_logger = LoggerWrapper(debug_logger, {'component':name})\n",
    "\n",
    "    def exec(self, case: CaseCapsule):\n",
    "        self._debug_logger.debug('before calling pre sub functions')\n",
    "        self._pre_sub_function(case, self._debug_logger, self._name)\n",
    "        self._debug_logger.debug('after calling pre sub functions')\n",
    "        if self._sub_component:\n",
    "            self._debug_logger.debug('before calling sub component')\n",
    "            self._sub_component.exec(case)\n",
    "            self._debug_logger.debug('after calling sub component')\n",
    "        self._debug_logger.debug('before calling post sub functions')\n",
    "        self._post_sub_function(case, self._debug_logger, self._name)\n",
    "        self._debug_logger.debug('after calling post sub functions')"
   ]
  },
  {
   "cell_type": "code",
   "execution_count": 9,
   "metadata": {},
   "outputs": [
    {
     "name": "stdout",
     "output_type": "stream",
     "text": [
      "DEBUG::TestComp::2021-01-04 16:25:38::DEBUG::<<<before calling pre sub functions>>>\n",
      "DEBUG::TestComp::2021-01-04 16:25:38::DEBUG::<<<some demo pre function>>>\n",
      "CASE::id[1]::last_seen[2021-01-04 16:25:40.119347]::counter[2]::DEBUG::<<<executed pre of component TestComp>>>\n",
      "DEBUG::TestComp::2021-01-04 16:25:38::DEBUG::<<<after calling pre sub functions>>>\n",
      "DEBUG::TestComp::2021-01-04 16:25:38::DEBUG::<<<before calling post sub functions>>>\n",
      "DEBUG::TestComp::2021-01-04 16:25:38::DEBUG::<<<some demo post function>>>\n",
      "CASE::id[1]::last_seen[2021-01-04 16:25:42.119347]::counter[3]::DEBUG::<<<executed post of component TestComp>>>\n",
      "DEBUG::TestComp::2021-01-04 16:25:38::DEBUG::<<<after calling post sub functions>>>\n"
     ]
    }
   ],
   "source": [
    "def test_pre_fun(case:CaseCapsule, logger: logging.Logger, name):\n",
    "    logger.debug('some demo pre function')\n",
    "    case.add_seconds(2)\n",
    "    case.log.debug(f'executed pre of component {name}')\n",
    "\n",
    "def test_post_fun(case:CaseCapsule, logger: logging.Logger, name):\n",
    "    logger.debug('some demo post function')\n",
    "    case.add_seconds(2)\n",
    "    case.log.debug(f'executed post of component {name}')\n",
    "\n",
    "comp = Component(\"TestComp\", test_pre_fun, test_post_fun)\n",
    "\n",
    "case = CaseCapsule(\"1\")\n",
    "\n",
    "comp.exec(case)"
   ]
  },
  {
   "cell_type": "code",
   "execution_count": 10,
   "metadata": {},
   "outputs": [
    {
     "name": "stdout",
     "output_type": "stream",
     "text": [
      "id[1]::last_seen[2021-01-04 16:25:42.119347]::counter[3]\n",
      "id[1]::last_seen[2021-01-04 16:25:48.419347]::counter[4]\n"
     ]
    }
   ],
   "source": [
    "def simulate_timeout(ceil=10, likelihood=0.9):\n",
    "    # decide if timeout should be added\n",
    "    is_timeout = random.random()\n",
    "\n",
    "    if(is_timeout > likelihood):\n",
    "        # add timeout between range of ceil\n",
    "        return random.randrange(ceil*10)/10\n",
    "    \n",
    "    return 0.1\n",
    "\n",
    "print(case)\n",
    "case.add_seconds(simulate_timeout(10, 0.6))\n",
    "print(case)"
   ]
  },
  {
   "cell_type": "markdown",
   "metadata": {},
   "source": [
    "# Define components\n",
    "\n"
   ]
  },
  {
   "cell_type": "markdown",
   "metadata": {},
   "source": [
    "## Nice weather case simulation"
   ]
  },
  {
   "cell_type": "code",
   "execution_count": 11,
   "metadata": {},
   "outputs": [],
   "source": [
    "def nice_weather_pre_function(case:CaseCapsule, logger: logging.Logger, name):\n",
    "    logger.debug('executing pre function')\n",
    "    case.add_seconds(simulate_timeout(2, 0.9))\n",
    "    case.log.debug(f'executed pre function of component {name}')\n",
    "\n",
    "def nice_weather_post_function(case:CaseCapsule, logger: logging.Logger, name):\n",
    "    logger.debug('executing post function')\n",
    "    case.add_seconds(simulate_timeout(2, 0.9))\n",
    "    case.log.debug(f'executed post function of component {name}')\n",
    "\n",
    "notification_service = Component(\"notification_service\", nice_weather_pre_function, nice_weather_post_function, debugLogger)\n",
    "correlator = Component(\"correlator\", nice_weather_pre_function, nice_weather_post_function, debugLogger, notification_service)\n",
    "analytics = Component(\"analytics\", nice_weather_pre_function, nice_weather_post_function, debugLogger, correlator)\n",
    "workflow_engine = Component(\"workflow_engine\", nice_weather_pre_function, nice_weather_post_function, debugLogger, analytics)\n",
    "worker = Component(\"worker\", nice_weather_pre_function, nice_weather_post_function, debugLogger, workflow_engine)\n",
    "indicator_parser = Component(\"indicator_parser\", nice_weather_pre_function, nice_weather_post_function, debugLogger, worker)\n",
    "email_service = Component(\"email_service\", nice_weather_pre_function, nice_weather_post_function, debugLogger, indicator_parser)\n",
    "guardia_api = Component(\"guardia_api\", nice_weather_pre_function, nice_weather_post_function, debugLogger, email_service)\n",
    "auth_proxy = Component(\"auth_proxy\", nice_weather_pre_function, nice_weather_post_function, debugLogger, guardia_api)"
   ]
  },
  {
   "cell_type": "code",
   "execution_count": 12,
   "metadata": {},
   "outputs": [
    {
     "name": "stdout",
     "output_type": "stream",
     "text": [
      "DEBUG::auth_proxy::2021-01-04 16:25:38::DEBUG::<<<before calling pre sub functions>>>\n",
      "DEBUG::auth_proxy::2021-01-04 16:25:38::DEBUG::<<<executing pre function>>>\n",
      "CASE::id[1]::last_seen[2021-01-04 16:25:38.259891]::counter[2]::DEBUG::<<<executed pre function of component auth_proxy>>>\n",
      "DEBUG::auth_proxy::2021-01-04 16:25:38::DEBUG::<<<after calling pre sub functions>>>\n",
      "DEBUG::auth_proxy::2021-01-04 16:25:38::DEBUG::<<<before calling sub component>>>\n",
      "DEBUG::guardia_api::2021-01-04 16:25:38::DEBUG::<<<before calling pre sub functions>>>\n",
      "DEBUG::guardia_api::2021-01-04 16:25:38::DEBUG::<<<executing pre function>>>\n",
      "CASE::id[1]::last_seen[2021-01-04 16:25:38.359891]::counter[3]::DEBUG::<<<executed pre function of component guardia_api>>>\n",
      "DEBUG::guardia_api::2021-01-04 16:25:38::DEBUG::<<<after calling pre sub functions>>>\n",
      "DEBUG::guardia_api::2021-01-04 16:25:38::DEBUG::<<<before calling sub component>>>\n",
      "DEBUG::email_service::2021-01-04 16:25:38::DEBUG::<<<before calling pre sub functions>>>\n",
      "DEBUG::email_service::2021-01-04 16:25:38::DEBUG::<<<executing pre function>>>\n",
      "CASE::id[1]::last_seen[2021-01-04 16:25:38.459891]::counter[4]::DEBUG::<<<executed pre function of component email_service>>>\n",
      "DEBUG::email_service::2021-01-04 16:25:38::DEBUG::<<<after calling pre sub functions>>>\n",
      "DEBUG::email_service::2021-01-04 16:25:38::DEBUG::<<<before calling sub component>>>\n",
      "DEBUG::indicator_parser::2021-01-04 16:25:38::DEBUG::<<<before calling pre sub functions>>>\n",
      "DEBUG::indicator_parser::2021-01-04 16:25:38::DEBUG::<<<executing pre function>>>\n",
      "CASE::id[1]::last_seen[2021-01-04 16:25:38.559891]::counter[5]::DEBUG::<<<executed pre function of component indicator_parser>>>\n",
      "DEBUG::indicator_parser::2021-01-04 16:25:38::DEBUG::<<<after calling pre sub functions>>>\n",
      "DEBUG::indicator_parser::2021-01-04 16:25:38::DEBUG::<<<before calling sub component>>>\n",
      "DEBUG::worker::2021-01-04 16:25:38::DEBUG::<<<before calling pre sub functions>>>\n",
      "DEBUG::worker::2021-01-04 16:25:38::DEBUG::<<<executing pre function>>>\n",
      "CASE::id[1]::last_seen[2021-01-04 16:25:38.659891]::counter[6]::DEBUG::<<<executed pre function of component worker>>>\n",
      "DEBUG::worker::2021-01-04 16:25:38::DEBUG::<<<after calling pre sub functions>>>\n",
      "DEBUG::worker::2021-01-04 16:25:38::DEBUG::<<<before calling sub component>>>\n",
      "DEBUG::workflow_engine::2021-01-04 16:25:38::DEBUG::<<<before calling pre sub functions>>>\n",
      "DEBUG::workflow_engine::2021-01-04 16:25:38::DEBUG::<<<executing pre function>>>\n",
      "CASE::id[1]::last_seen[2021-01-04 16:25:38.759891]::counter[7]::DEBUG::<<<executed pre function of component workflow_engine>>>\n",
      "DEBUG::workflow_engine::2021-01-04 16:25:38::DEBUG::<<<after calling pre sub functions>>>\n",
      "DEBUG::workflow_engine::2021-01-04 16:25:38::DEBUG::<<<before calling sub component>>>\n",
      "DEBUG::analytics::2021-01-04 16:25:38::DEBUG::<<<before calling pre sub functions>>>\n",
      "DEBUG::analytics::2021-01-04 16:25:38::DEBUG::<<<executing pre function>>>\n",
      "CASE::id[1]::last_seen[2021-01-04 16:25:38.859891]::counter[8]::DEBUG::<<<executed pre function of component analytics>>>\n",
      "DEBUG::analytics::2021-01-04 16:25:38::DEBUG::<<<after calling pre sub functions>>>\n",
      "DEBUG::analytics::2021-01-04 16:25:38::DEBUG::<<<before calling sub component>>>\n",
      "DEBUG::correlator::2021-01-04 16:25:38::DEBUG::<<<before calling pre sub functions>>>\n",
      "DEBUG::correlator::2021-01-04 16:25:38::DEBUG::<<<executing pre function>>>\n",
      "CASE::id[1]::last_seen[2021-01-04 16:25:38.959891]::counter[9]::DEBUG::<<<executed pre function of component correlator>>>\n",
      "DEBUG::correlator::2021-01-04 16:25:38::DEBUG::<<<after calling pre sub functions>>>\n",
      "DEBUG::correlator::2021-01-04 16:25:38::DEBUG::<<<before calling sub component>>>\n",
      "DEBUG::notification_service::2021-01-04 16:25:38::DEBUG::<<<before calling pre sub functions>>>\n",
      "DEBUG::notification_service::2021-01-04 16:25:38::DEBUG::<<<executing pre function>>>\n",
      "CASE::id[1]::last_seen[2021-01-04 16:25:39.059891]::counter[10]::DEBUG::<<<executed pre function of component notification_service>>>\n",
      "DEBUG::notification_service::2021-01-04 16:25:38::DEBUG::<<<after calling pre sub functions>>>\n",
      "DEBUG::notification_service::2021-01-04 16:25:38::DEBUG::<<<before calling post sub functions>>>\n",
      "DEBUG::notification_service::2021-01-04 16:25:38::DEBUG::<<<executing post function>>>\n",
      "CASE::id[1]::last_seen[2021-01-04 16:25:40.359891]::counter[11]::DEBUG::<<<executed post function of component notification_service>>>\n",
      "DEBUG::notification_service::2021-01-04 16:25:38::DEBUG::<<<after calling post sub functions>>>\n",
      "DEBUG::correlator::2021-01-04 16:25:38::DEBUG::<<<after calling sub component>>>\n",
      "DEBUG::correlator::2021-01-04 16:25:38::DEBUG::<<<before calling post sub functions>>>\n",
      "DEBUG::correlator::2021-01-04 16:25:38::DEBUG::<<<executing post function>>>\n",
      "CASE::id[1]::last_seen[2021-01-04 16:25:40.459891]::counter[12]::DEBUG::<<<executed post function of component correlator>>>\n",
      "DEBUG::correlator::2021-01-04 16:25:38::DEBUG::<<<after calling post sub functions>>>\n",
      "DEBUG::analytics::2021-01-04 16:25:38::DEBUG::<<<after calling sub component>>>\n",
      "DEBUG::analytics::2021-01-04 16:25:38::DEBUG::<<<before calling post sub functions>>>\n",
      "DEBUG::analytics::2021-01-04 16:25:38::DEBUG::<<<executing post function>>>\n",
      "CASE::id[1]::last_seen[2021-01-04 16:25:40.559891]::counter[13]::DEBUG::<<<executed post function of component analytics>>>\n",
      "DEBUG::analytics::2021-01-04 16:25:38::DEBUG::<<<after calling post sub functions>>>\n",
      "DEBUG::workflow_engine::2021-01-04 16:25:38::DEBUG::<<<after calling sub component>>>\n",
      "DEBUG::workflow_engine::2021-01-04 16:25:38::DEBUG::<<<before calling post sub functions>>>\n",
      "DEBUG::workflow_engine::2021-01-04 16:25:38::DEBUG::<<<executing post function>>>\n",
      "CASE::id[1]::last_seen[2021-01-04 16:25:40.659891]::counter[14]::DEBUG::<<<executed post function of component workflow_engine>>>\n",
      "DEBUG::workflow_engine::2021-01-04 16:25:38::DEBUG::<<<after calling post sub functions>>>\n",
      "DEBUG::worker::2021-01-04 16:25:38::DEBUG::<<<after calling sub component>>>\n",
      "DEBUG::worker::2021-01-04 16:25:38::DEBUG::<<<before calling post sub functions>>>\n",
      "DEBUG::worker::2021-01-04 16:25:38::DEBUG::<<<executing post function>>>\n",
      "CASE::id[1]::last_seen[2021-01-04 16:25:41.359891]::counter[15]::DEBUG::<<<executed post function of component worker>>>\n",
      "DEBUG::worker::2021-01-04 16:25:38::DEBUG::<<<after calling post sub functions>>>\n",
      "DEBUG::indicator_parser::2021-01-04 16:25:38::DEBUG::<<<after calling sub component>>>\n",
      "DEBUG::indicator_parser::2021-01-04 16:25:38::DEBUG::<<<before calling post sub functions>>>\n",
      "DEBUG::indicator_parser::2021-01-04 16:25:38::DEBUG::<<<executing post function>>>\n",
      "CASE::id[1]::last_seen[2021-01-04 16:25:41.459891]::counter[16]::DEBUG::<<<executed post function of component indicator_parser>>>\n",
      "DEBUG::indicator_parser::2021-01-04 16:25:38::DEBUG::<<<after calling post sub functions>>>\n",
      "DEBUG::email_service::2021-01-04 16:25:38::DEBUG::<<<after calling sub component>>>\n",
      "DEBUG::email_service::2021-01-04 16:25:38::DEBUG::<<<before calling post sub functions>>>\n",
      "DEBUG::email_service::2021-01-04 16:25:38::DEBUG::<<<executing post function>>>\n",
      "CASE::id[1]::last_seen[2021-01-04 16:25:41.559891]::counter[17]::DEBUG::<<<executed post function of component email_service>>>\n",
      "DEBUG::email_service::2021-01-04 16:25:38::DEBUG::<<<after calling post sub functions>>>\n",
      "DEBUG::guardia_api::2021-01-04 16:25:38::DEBUG::<<<after calling sub component>>>\n",
      "DEBUG::guardia_api::2021-01-04 16:25:38::DEBUG::<<<before calling post sub functions>>>\n",
      "DEBUG::guardia_api::2021-01-04 16:25:38::DEBUG::<<<executing post function>>>\n",
      "CASE::id[1]::last_seen[2021-01-04 16:25:41.659891]::counter[18]::DEBUG::<<<executed post function of component guardia_api>>>\n",
      "DEBUG::guardia_api::2021-01-04 16:25:38::DEBUG::<<<after calling post sub functions>>>\n",
      "DEBUG::auth_proxy::2021-01-04 16:25:38::DEBUG::<<<after calling sub component>>>\n",
      "DEBUG::auth_proxy::2021-01-04 16:25:38::DEBUG::<<<before calling post sub functions>>>\n",
      "DEBUG::auth_proxy::2021-01-04 16:25:38::DEBUG::<<<executing post function>>>\n",
      "CASE::id[1]::last_seen[2021-01-04 16:25:41.759891]::counter[19]::DEBUG::<<<executed post function of component auth_proxy>>>\n",
      "DEBUG::auth_proxy::2021-01-04 16:25:38::DEBUG::<<<after calling post sub functions>>>\n"
     ]
    }
   ],
   "source": [
    "caseLogger = setup_logger(\"nice_weather_case\")\n",
    "case = CaseCapsule(\"1\", caseLogger)\n",
    "\n",
    "auth_proxy.exec(case)"
   ]
  },
  {
   "cell_type": "markdown",
   "metadata": {},
   "source": [
    "## Simulating inconsistent and slow Correlator"
   ]
  },
  {
   "cell_type": "code",
   "execution_count": 13,
   "metadata": {},
   "outputs": [],
   "source": [
    "def long_pre_function(case:CaseCapsule, logger: logging.Logger, name):\n",
    "    logger.debug('executing pre function')\n",
    "    case.add_seconds(simulate_timeout(10, 0.4))\n",
    "    case.log.debug(f'executed pre function of component {name}')\n",
    "\n",
    "def long_post_function(case:CaseCapsule, logger: logging.Logger, name):\n",
    "    logger.debug('executing post function')\n",
    "    case.add_seconds(simulate_timeout(5, 0.3))\n",
    "    case.log.debug(f'executed post function of component {name}')\n",
    "\n",
    "notification_service = Component(\"notification_service\", nice_weather_pre_function, nice_weather_post_function, debugLogger)\n",
    "correlator = Component(\"correlator\", long_pre_function, long_post_function, debugLogger, notification_service)\n",
    "analytics = Component(\"analytics\", nice_weather_pre_function, nice_weather_post_function, debugLogger, correlator)\n",
    "workflow_engine = Component(\"workflow_engine\", nice_weather_pre_function, nice_weather_post_function, debugLogger, analytics)\n",
    "worker = Component(\"worker\", nice_weather_pre_function, nice_weather_post_function, debugLogger, workflow_engine)\n",
    "indicator_parser = Component(\"indicator_parser\", nice_weather_pre_function, nice_weather_post_function, debugLogger, worker)\n",
    "email_service = Component(\"email_service\", nice_weather_pre_function, nice_weather_post_function, debugLogger, indicator_parser)\n",
    "guardia_api = Component(\"guardia_api\", nice_weather_pre_function, nice_weather_post_function, debugLogger, email_service)\n",
    "auth_proxy = Component(\"auth_proxy\", nice_weather_pre_function, nice_weather_post_function, debugLogger, guardia_api)"
   ]
  },
  {
   "cell_type": "code",
   "execution_count": 14,
   "metadata": {},
   "outputs": [
    {
     "name": "stdout",
     "output_type": "stream",
     "text": [
      "DEBUG::auth_proxy::2021-01-04 16:25:38::DEBUG::<<<before calling pre sub functions>>>\n",
      "DEBUG::auth_proxy::2021-01-04 16:25:38::DEBUG::<<<executing pre function>>>\n",
      "CASE::id[1]::last_seen[2021-01-04 16:25:38.389544]::counter[2]::DEBUG::<<<executed pre function of component auth_proxy>>>\n",
      "DEBUG::auth_proxy::2021-01-04 16:25:38::DEBUG::<<<after calling pre sub functions>>>\n",
      "DEBUG::auth_proxy::2021-01-04 16:25:38::DEBUG::<<<before calling sub component>>>\n",
      "DEBUG::guardia_api::2021-01-04 16:25:38::DEBUG::<<<before calling pre sub functions>>>\n",
      "DEBUG::guardia_api::2021-01-04 16:25:38::DEBUG::<<<executing pre function>>>\n",
      "CASE::id[1]::last_seen[2021-01-04 16:25:38.489544]::counter[3]::DEBUG::<<<executed pre function of component guardia_api>>>\n",
      "DEBUG::guardia_api::2021-01-04 16:25:38::DEBUG::<<<after calling pre sub functions>>>\n",
      "DEBUG::guardia_api::2021-01-04 16:25:38::DEBUG::<<<before calling sub component>>>\n",
      "DEBUG::email_service::2021-01-04 16:25:38::DEBUG::<<<before calling pre sub functions>>>\n",
      "DEBUG::email_service::2021-01-04 16:25:38::DEBUG::<<<executing pre function>>>\n",
      "CASE::id[1]::last_seen[2021-01-04 16:25:38.589544]::counter[4]::DEBUG::<<<executed pre function of component email_service>>>\n",
      "DEBUG::email_service::2021-01-04 16:25:38::DEBUG::<<<after calling pre sub functions>>>\n",
      "DEBUG::email_service::2021-01-04 16:25:38::DEBUG::<<<before calling sub component>>>\n",
      "DEBUG::indicator_parser::2021-01-04 16:25:38::DEBUG::<<<before calling pre sub functions>>>\n",
      "DEBUG::indicator_parser::2021-01-04 16:25:38::DEBUG::<<<executing pre function>>>\n",
      "CASE::id[1]::last_seen[2021-01-04 16:25:38.689544]::counter[5]::DEBUG::<<<executed pre function of component indicator_parser>>>\n",
      "DEBUG::indicator_parser::2021-01-04 16:25:38::DEBUG::<<<after calling pre sub functions>>>\n",
      "DEBUG::indicator_parser::2021-01-04 16:25:38::DEBUG::<<<before calling sub component>>>\n",
      "DEBUG::worker::2021-01-04 16:25:38::DEBUG::<<<before calling pre sub functions>>>\n",
      "DEBUG::worker::2021-01-04 16:25:38::DEBUG::<<<executing pre function>>>\n",
      "CASE::id[1]::last_seen[2021-01-04 16:25:38.789544]::counter[6]::DEBUG::<<<executed pre function of component worker>>>\n",
      "DEBUG::worker::2021-01-04 16:25:38::DEBUG::<<<after calling pre sub functions>>>\n",
      "DEBUG::worker::2021-01-04 16:25:38::DEBUG::<<<before calling sub component>>>\n",
      "DEBUG::workflow_engine::2021-01-04 16:25:38::DEBUG::<<<before calling pre sub functions>>>\n",
      "DEBUG::workflow_engine::2021-01-04 16:25:38::DEBUG::<<<executing pre function>>>\n",
      "CASE::id[1]::last_seen[2021-01-04 16:25:38.889544]::counter[7]::DEBUG::<<<executed pre function of component workflow_engine>>>\n",
      "DEBUG::workflow_engine::2021-01-04 16:25:38::DEBUG::<<<after calling pre sub functions>>>\n",
      "DEBUG::workflow_engine::2021-01-04 16:25:38::DEBUG::<<<before calling sub component>>>\n",
      "DEBUG::analytics::2021-01-04 16:25:38::DEBUG::<<<before calling pre sub functions>>>\n",
      "DEBUG::analytics::2021-01-04 16:25:38::DEBUG::<<<executing pre function>>>\n",
      "CASE::id[1]::last_seen[2021-01-04 16:25:38.989544]::counter[8]::DEBUG::<<<executed pre function of component analytics>>>\n",
      "DEBUG::analytics::2021-01-04 16:25:38::DEBUG::<<<after calling pre sub functions>>>\n",
      "DEBUG::analytics::2021-01-04 16:25:38::DEBUG::<<<before calling sub component>>>\n",
      "DEBUG::correlator::2021-01-04 16:25:38::DEBUG::<<<before calling pre sub functions>>>\n",
      "DEBUG::correlator::2021-01-04 16:25:38::DEBUG::<<<executing pre function>>>\n",
      "CASE::id[1]::last_seen[2021-01-04 16:25:42.089544]::counter[9]::DEBUG::<<<executed pre function of component correlator>>>\n",
      "DEBUG::correlator::2021-01-04 16:25:38::DEBUG::<<<after calling pre sub functions>>>\n",
      "DEBUG::correlator::2021-01-04 16:25:38::DEBUG::<<<before calling sub component>>>\n",
      "DEBUG::notification_service::2021-01-04 16:25:38::DEBUG::<<<before calling pre sub functions>>>\n",
      "DEBUG::notification_service::2021-01-04 16:25:38::DEBUG::<<<executing pre function>>>\n",
      "CASE::id[1]::last_seen[2021-01-04 16:25:42.189544]::counter[10]::DEBUG::<<<executed pre function of component notification_service>>>\n",
      "DEBUG::notification_service::2021-01-04 16:25:38::DEBUG::<<<after calling pre sub functions>>>\n",
      "DEBUG::notification_service::2021-01-04 16:25:38::DEBUG::<<<before calling post sub functions>>>\n",
      "DEBUG::notification_service::2021-01-04 16:25:38::DEBUG::<<<executing post function>>>\n",
      "CASE::id[1]::last_seen[2021-01-04 16:25:42.289544]::counter[11]::DEBUG::<<<executed post function of component notification_service>>>\n",
      "DEBUG::notification_service::2021-01-04 16:25:38::DEBUG::<<<after calling post sub functions>>>\n",
      "DEBUG::correlator::2021-01-04 16:25:38::DEBUG::<<<after calling sub component>>>\n",
      "DEBUG::correlator::2021-01-04 16:25:38::DEBUG::<<<before calling post sub functions>>>\n",
      "DEBUG::correlator::2021-01-04 16:25:38::DEBUG::<<<executing post function>>>\n",
      "CASE::id[1]::last_seen[2021-01-04 16:25:44.389544]::counter[12]::DEBUG::<<<executed post function of component correlator>>>\n",
      "DEBUG::correlator::2021-01-04 16:25:38::DEBUG::<<<after calling post sub functions>>>\n",
      "DEBUG::analytics::2021-01-04 16:25:38::DEBUG::<<<after calling sub component>>>\n",
      "DEBUG::analytics::2021-01-04 16:25:38::DEBUG::<<<before calling post sub functions>>>\n",
      "DEBUG::analytics::2021-01-04 16:25:38::DEBUG::<<<executing post function>>>\n",
      "CASE::id[1]::last_seen[2021-01-04 16:25:44.489544]::counter[13]::DEBUG::<<<executed post function of component analytics>>>\n",
      "DEBUG::analytics::2021-01-04 16:25:38::DEBUG::<<<after calling post sub functions>>>\n",
      "DEBUG::workflow_engine::2021-01-04 16:25:38::DEBUG::<<<after calling sub component>>>\n",
      "DEBUG::workflow_engine::2021-01-04 16:25:38::DEBUG::<<<before calling post sub functions>>>\n",
      "DEBUG::workflow_engine::2021-01-04 16:25:38::DEBUG::<<<executing post function>>>\n",
      "CASE::id[1]::last_seen[2021-01-04 16:25:44.589544]::counter[14]::DEBUG::<<<executed post function of component workflow_engine>>>\n",
      "DEBUG::workflow_engine::2021-01-04 16:25:38::DEBUG::<<<after calling post sub functions>>>\n",
      "DEBUG::worker::2021-01-04 16:25:38::DEBUG::<<<after calling sub component>>>\n",
      "DEBUG::worker::2021-01-04 16:25:38::DEBUG::<<<before calling post sub functions>>>\n",
      "DEBUG::worker::2021-01-04 16:25:38::DEBUG::<<<executing post function>>>\n",
      "CASE::id[1]::last_seen[2021-01-04 16:25:44.689544]::counter[15]::DEBUG::<<<executed post function of component worker>>>\n",
      "DEBUG::worker::2021-01-04 16:25:38::DEBUG::<<<after calling post sub functions>>>\n",
      "DEBUG::indicator_parser::2021-01-04 16:25:38::DEBUG::<<<after calling sub component>>>\n",
      "DEBUG::indicator_parser::2021-01-04 16:25:38::DEBUG::<<<before calling post sub functions>>>\n",
      "DEBUG::indicator_parser::2021-01-04 16:25:38::DEBUG::<<<executing post function>>>\n",
      "CASE::id[1]::last_seen[2021-01-04 16:25:46.089544]::counter[16]::DEBUG::<<<executed post function of component indicator_parser>>>\n",
      "DEBUG::indicator_parser::2021-01-04 16:25:38::DEBUG::<<<after calling post sub functions>>>\n",
      "DEBUG::email_service::2021-01-04 16:25:38::DEBUG::<<<after calling sub component>>>\n",
      "DEBUG::email_service::2021-01-04 16:25:38::DEBUG::<<<before calling post sub functions>>>\n",
      "DEBUG::email_service::2021-01-04 16:25:38::DEBUG::<<<executing post function>>>\n",
      "CASE::id[1]::last_seen[2021-01-04 16:25:46.189544]::counter[17]::DEBUG::<<<executed post function of component email_service>>>\n",
      "DEBUG::email_service::2021-01-04 16:25:38::DEBUG::<<<after calling post sub functions>>>\n",
      "DEBUG::guardia_api::2021-01-04 16:25:38::DEBUG::<<<after calling sub component>>>\n",
      "DEBUG::guardia_api::2021-01-04 16:25:38::DEBUG::<<<before calling post sub functions>>>\n",
      "DEBUG::guardia_api::2021-01-04 16:25:38::DEBUG::<<<executing post function>>>\n",
      "CASE::id[1]::last_seen[2021-01-04 16:25:46.289544]::counter[18]::DEBUG::<<<executed post function of component guardia_api>>>\n",
      "DEBUG::guardia_api::2021-01-04 16:25:38::DEBUG::<<<after calling post sub functions>>>\n",
      "DEBUG::auth_proxy::2021-01-04 16:25:38::DEBUG::<<<after calling sub component>>>\n",
      "DEBUG::auth_proxy::2021-01-04 16:25:38::DEBUG::<<<before calling post sub functions>>>\n",
      "DEBUG::auth_proxy::2021-01-04 16:25:38::DEBUG::<<<executing post function>>>\n",
      "CASE::id[1]::last_seen[2021-01-04 16:25:46.389544]::counter[19]::DEBUG::<<<executed post function of component auth_proxy>>>\n",
      "DEBUG::auth_proxy::2021-01-04 16:25:38::DEBUG::<<<after calling post sub functions>>>\n"
     ]
    }
   ],
   "source": [
    "caseLogger = setup_logger(\"long_correlator_case\")\n",
    "case = CaseCapsule(\"1\", caseLogger)\n",
    "\n",
    "auth_proxy.exec(case)"
   ]
  }
 ],
 "metadata": {
  "kernelspec": {
   "display_name": "Python 3",
   "language": "python",
   "name": "python3"
  },
  "language_info": {
   "codemirror_mode": {
    "name": "ipython",
    "version": 3
   },
   "file_extension": ".py",
   "mimetype": "text/x-python",
   "name": "python",
   "nbconvert_exporter": "python",
   "pygments_lexer": "ipython3",
   "version": "3.8.6"
  },
  "orig_nbformat": 2
 },
 "nbformat": 4,
 "nbformat_minor": 2
}