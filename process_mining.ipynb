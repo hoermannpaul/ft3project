{
 "cells": [
  {
   "cell_type": "markdown",
   "metadata": {
    "collapsed": true,
    "pycharm": {
     "name": "#%% md\n"
    }
   },
   "source": [
    "# Process Mining for Email Workflow"
   ]
  },
  {
   "cell_type": "markdown",
   "metadata": {},
   "source": [
    "Use the 'pm4py' library to create a process mining model of a demo log.\n",
    "The goal is to be able to identify issues in the SOC Toolkit logs with process mining.\n",
    "\n",
    "## Features\n",
    "  * case id   --> 'case:concept:name'\n",
    "  * timestamp --> 'timestamp'\n",
    "  * activity  --> 'concept:name'\n",
    "  * resource  --> 'org:resource'"
   ]
  },
  {
   "cell_type": "markdown",
   "metadata": {},
   "source": [
    "## Process Mining Tools:\n",
    "   - Alpha Miner\n",
    "   - Petri Nets\n",
    "   - Directly Follows Graph (time factor)\n",
    "   - Replay\n",
    "   - Diagnostics "
   ]
  },
  {
   "cell_type": "code",
   "execution_count": 10,
   "metadata": {
    "pycharm": {
     "name": "#%%\n"
    }
   },
   "outputs": [],
   "source": [
    "import os\n",
    "import pm4py\n",
    "\n",
    "import pandas as pd\n",
    "from pm4py.objects.log.util import dataframe_utils\n",
    "from pm4py.objects.conversion.log import converter as log_converter\n",
    "from pm4py.objects.log.exporter.xes import exporter as xes_exporter\n",
    "from pm4py.objects.log.importer.xes import importer as xes_importer\n",
    "\n",
    "from pm4py.algo.discovery.heuristics import algorithm as heuristics_miner\n",
    "from pm4py.visualization.petrinet import visualizer as pn_visualizer"
   ]
  },
  {
   "cell_type": "code",
   "execution_count": 18,
   "metadata": {
    "pycharm": {
     "name": "#%%\n"
    }
   },
   "outputs": [],
   "source": [
    "class ProcessMining:\n",
    "    def __init__(self):\n",
    "        self._event_log = list()\n",
    "\n",
    "    def print(self, show_slice_list = True) -> None:\n",
    "        if(show_slice_list):\n",
    "            print(self._event_log[0:5])\n",
    "        else:\n",
    "            print(self._event_log)\n",
    "\n",
    "    def convert_to_xes(self, _csv_file_name: str, _xes_file_name: str) -> None:\n",
    "        # parse csv to xes log file\n",
    "        log_csv = pd.read_csv(_csv_file_name, sep=',')\n",
    "        log_csv = dataframe_utils.convert_timestamp_columns_in_df(log_csv)\n",
    "        log_csv = log_csv.sort_values('timestamp')\n",
    "        self._event_log = log_converter.apply(log_csv, variant=log_converter.Variants.TO_EVENT_LOG)\n",
    "        xes_exporter.apply(self._event_log, _xes_file_name)\n",
    "        \n",
    "    def alpha_miner(self) -> None:\n",
    "        pass\n",
    "    \n",
    "    def generate_petri_net(self) -> None:\n",
    "        pass\n",
    "    \n",
    "    def directly_follows_graph(self) -> None:\n",
    "        pass\n",
    "    \n",
    "    def process_replay(self) -> None:\n",
    "        pass\n",
    "    \n",
    "    def print_diagnostics(self) -> None:\n",
    "        pass\n"
   ]
  },
  {
   "cell_type": "markdown",
   "metadata": {},
   "source": [
    "## 1. Long Correlator Case"
   ]
  },
  {
   "cell_type": "code",
   "execution_count": 19,
   "metadata": {
    "pycharm": {
     "name": "#%%\n"
    }
   },
   "outputs": [
    {
     "data": {
      "application/vnd.jupyter.widget-view+json": {
       "model_id": "4af3eb60395149138e77b9fc1063d88b",
       "version_major": 2,
       "version_minor": 0
      },
      "text/plain": [
       "exporting log, completed traces ::   0%|          | 0/1000 [00:00<?, ?it/s]"
      ]
     },
     "metadata": {},
     "output_type": "display_data"
    },
    {
     "name": "stdout",
     "output_type": "stream",
     "text": [
      "[{'attributes': {'concept:name': 54}, 'events': [{'timestamp': Timestamp('2021-01-12 17:18:00.431256+0000', tz='UTC'), 'concept:name': 'executed pre function of component auth_proxy', 'org:resource': 'auth_proxy'}, '..', {'timestamp': Timestamp('2021-01-12 17:18:05.031256+0000', tz='UTC'), 'concept:name': 'executed post function of component guardia_api', 'org:resource': 'guardia_api'}]}, {'attributes': {'concept:name': 76}, 'events': [{'timestamp': Timestamp('2021-01-12 17:18:00.626463+0000', tz='UTC'), 'concept:name': 'executed pre function of component auth_proxy', 'org:resource': 'auth_proxy'}, '..', {'timestamp': Timestamp('2021-01-12 17:18:10.126463+0000', tz='UTC'), 'concept:name': 'executed post function of component guardia_api', 'org:resource': 'guardia_api'}]}, {'attributes': {'concept:name': 106}, 'events': [{'timestamp': Timestamp('2021-01-12 17:18:00.692066+0000', tz='UTC'), 'concept:name': 'executed pre function of component auth_proxy', 'org:resource': 'auth_proxy'}, '..', {'timestamp': Timestamp('2021-01-12 17:18:08.992066+0000', tz='UTC'), 'concept:name': 'executed post function of component guardia_api', 'org:resource': 'guardia_api'}]}, {'attributes': {'concept:name': 97}, 'events': [{'timestamp': Timestamp('2021-01-12 17:18:00.720196+0000', tz='UTC'), 'concept:name': 'executed pre function of component auth_proxy', 'org:resource': 'auth_proxy'}, '..', {'timestamp': Timestamp('2021-01-12 17:18:12.520196+0000', tz='UTC'), 'concept:name': 'executed post function of component guardia_api', 'org:resource': 'guardia_api'}]}, {'attributes': {'concept:name': 92}, 'events': [{'timestamp': Timestamp('2021-01-12 17:18:00.722651+0000', tz='UTC'), 'concept:name': 'executed pre function of component auth_proxy', 'org:resource': 'auth_proxy'}, '..', {'timestamp': Timestamp('2021-01-12 17:18:04.622651+0000', tz='UTC'), 'concept:name': 'executed post function of component guardia_api', 'org:resource': 'guardia_api'}]}]\n"
     ]
    }
   ],
   "source": [
    "mine = ProcessMining()\n",
    "# Scenario 1\n",
    "mine.convert_to_xes(_csv_file_name='./out/long_correlator_case.csv',\n",
    "                     _xes_file_name='./out/long_correlator_case.xes')\n",
    "mine.print(show_slice_list=True)"
   ]
  },
  {
   "cell_type": "code",
   "execution_count": null,
   "metadata": {},
   "outputs": [],
   "source": []
  }
 ],
 "metadata": {
  "kernelspec": {
   "display_name": "Python 3",
   "language": "python",
   "name": "python3"
  },
  "language_info": {
   "codemirror_mode": {
    "name": "ipython",
    "version": 3
   },
   "file_extension": ".py",
   "mimetype": "text/x-python",
   "name": "python",
   "nbconvert_exporter": "python",
   "pygments_lexer": "ipython3",
   "version": "3.8.5"
  }
 },
 "nbformat": 4,
 "nbformat_minor": 1
}
