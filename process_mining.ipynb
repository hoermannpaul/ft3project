{
 "cells": [
  {
   "cell_type": "markdown",
   "metadata": {
    "collapsed": true,
    "pycharm": {
     "name": "#%% md\n"
    }
   },
   "source": [
    "# Process Mining for Email Workflow"
   ]
  },
  {
   "cell_type": "markdown",
   "source": [
    "Use the 'pm4py' library to create a process mining model of the demo log structure.\n",
    "The goal is to use the replay mechanism to evaluate the log with a petri net."
   ],
   "metadata": {
    "collapsed": false
   }
  },
  {
   "source": [
    "# TODO:\n",
    "   - Identify issues in logs with process mining \n",
    "\n",
    "\n",
    "   - Alpha Miner\n",
    "   - Petri Nets\n",
    "   - Directly Follows Graph (time factor)\n",
    "   - Replay\n",
    "   - Diagnostics "
   ],
   "cell_type": "markdown",
   "metadata": {}
  },
  {
   "cell_type": "code",
   "execution_count": 28,
   "outputs": [],
   "source": [
    "import os\n",
    "import pm4py\n",
    "\n",
    "import pandas as pd\n",
    "from pm4py.objects.log.util import dataframe_utils\n",
    "from pm4py.objects.conversion.log import converter as log_converter\n",
    "from pm4py.objects.log.exporter.xes import exporter as xes_exporter\n",
    "from pm4py.objects.log.importer.xes import importer as xes_importer\n",
    "\n",
    "from pm4py.algo.discovery.heuristics import algorithm as heuristics_miner\n",
    "from pm4py.visualization.petrinet import visualizer as pn_visualizer"
   ],
   "metadata": {
    "collapsed": false,
    "pycharm": {
     "name": "#%%\n"
    }
   }
  },
  {
   "cell_type": "code",
   "execution_count": 29,
   "outputs": [],
   "source": [
    "class ProcessMining:\n",
    "    def __init__(self):\n",
    "        self._event_log = list()\n",
    "\n",
    "    def print(self) -> None:\n",
    "        print(self._event_log)\n",
    "\n",
    "    def convert_to_xes(self, _csv_file_name: str, _xes_file_name: str) -> None:\n",
    "        # parse csv to xes log file\n",
    "        log_csv = pd.read_csv(_csv_file_name, sep=',')\n",
    "        log_csv = dataframe_utils.convert_timestamp_columns_in_df(log_csv)\n",
    "        log_csv = log_csv.sort_values('timestamp')\n",
    "        parameters = {log_converter.Variants.TO_EVENT_LOG.value.Parameters.CASE_ID_KEY: 'case'}\n",
    "        self._event_log = log_converter.apply(log_csv, parameters=parameters,\n",
    "                                        variant=log_converter.Variants.TO_EVENT_LOG)\n",
    "        xes_exporter.apply(self._event_log, self._xes_file_name)\n",
    "\n",
    "    def heuristic_miner(self, _out_image_path: str) -> None:\n",
    "        net, im, fm = heuristics_miner.apply_heu(self._event_log,\n",
    "            parameters={heuristics_miner.Variants.CLASSIC.value.Parameters.DEPENDENCY_THRESH: 0.1})\n",
    "        gviz = pn_visualizer.apply(net, im, fm)\n",
    "        pn_visualizer.view(gviz)\n",
    "        pn_visualizer.save(gviz, _out_image_path)\n",
    "\n"
   ],
   "metadata": {
    "collapsed": false,
    "pycharm": {
     "name": "#%%\n"
    }
   }
  },
  {
   "cell_type": "code",
   "execution_count": 34,
   "outputs": [
    {
     "ename": "AttributeError",
     "evalue": "'ProcessMining' object has no attribute 'print'",
     "output_type": "error",
     "traceback": [
      "\u001B[0;31m---------------------------------------------------------------------------\u001B[0m",
      "\u001B[0;31mAttributeError\u001B[0m                            Traceback (most recent call last)",
      "\u001B[0;32m<ipython-input-34-3427de56dfac>\u001B[0m in \u001B[0;36m<module>\u001B[0;34m\u001B[0m\n\u001B[1;32m      2\u001B[0m                      out_file_name='./out/nice_weather_case.xes')\n\u001B[1;32m      3\u001B[0m \u001B[0mmine\u001B[0m\u001B[0;34m.\u001B[0m\u001B[0mconvert_to_xes\u001B[0m\u001B[0;34m(\u001B[0m\u001B[0;34m)\u001B[0m\u001B[0;34m\u001B[0m\u001B[0;34m\u001B[0m\u001B[0m\n\u001B[0;32m----> 4\u001B[0;31m \u001B[0mmine\u001B[0m\u001B[0;34m.\u001B[0m\u001B[0mprint\u001B[0m\u001B[0;34m(\u001B[0m\u001B[0;34m)\u001B[0m\u001B[0;34m\u001B[0m\u001B[0;34m\u001B[0m\u001B[0m\n\u001B[0m",
      "\u001B[0;31mAttributeError\u001B[0m: 'ProcessMining' object has no attribute 'print'"
     ]
    }
   ],
   "source": [
    "mine = ProcessMining()\n",
    "mine.convert_to_xes(_csv_file_name='./out/nice_weather_case.csv',\n",
    "                     _xes_file_name='./out/nice_weather_case.xes')\n",
    "mine.print()"
   ],
   "metadata": {
    "collapsed": false,
    "pycharm": {
     "name": "#%%\n"
    }
   }
  },
  {
   "cell_type": "code",
   "execution_count": 36,
   "outputs": [
    {
     "ename": "AttributeError",
     "evalue": "'ProcessMining' object has no attribute 'heuristic_miner'",
     "output_type": "error",
     "traceback": [
      "\u001B[0;31m---------------------------------------------------------------------------\u001B[0m",
      "\u001B[0;31mAttributeError\u001B[0m                            Traceback (most recent call last)",
      "\u001B[0;32m<ipython-input-36-e0d820f25934>\u001B[0m in \u001B[0;36m<module>\u001B[0;34m\u001B[0m\n\u001B[0;32m----> 1\u001B[0;31m \u001B[0mmine\u001B[0m\u001B[0;34m.\u001B[0m\u001B[0mheuristic_miner\u001B[0m\u001B[0;34m(\u001B[0m\u001B[0;34m'./out/nice_weather_miner.jpg'\u001B[0m\u001B[0;34m)\u001B[0m\u001B[0;34m\u001B[0m\u001B[0;34m\u001B[0m\u001B[0m\n\u001B[0m\u001B[1;32m      2\u001B[0m \u001B[0;34m\u001B[0m\u001B[0m\n",
      "\u001B[0;31mAttributeError\u001B[0m: 'ProcessMining' object has no attribute 'heuristic_miner'"
     ]
    }
   ],
   "source": [
    "mine.heuristic_miner('./out/nice_weather_miner.jpg')\n"
   ],
   "metadata": {
    "collapsed": false,
    "pycharm": {
     "name": "#%%\n"
    }
   }
  }
 ],
 "metadata": {
  "kernelspec": {
   "display_name": "Python 3",
   "language": "python",
   "name": "python3"
  },
  "language_info": {
   "codemirror_mode": {
    "name": "ipython",
    "version": 2
   },
   "file_extension": ".py",
   "mimetype": "text/x-python",
   "name": "python",
   "nbconvert_exporter": "python",
   "pygments_lexer": "ipython2",
   "version": "2.7.6"
  }
 },
 "nbformat": 4,
 "nbformat_minor": 0
}